{
  "cells": [
    {
      "cell_type": "markdown",
      "id": "a39dedb2",
      "metadata": {
        "id": "a39dedb2"
      },
      "source": [
        "### Import Libraries"
      ]
    },
    {
      "cell_type": "code",
      "execution_count": null,
      "id": "72e1359e",
      "metadata": {
        "id": "72e1359e"
      },
      "outputs": [],
      "source": [
        "import matplotlib.pyplot as plt\n",
        "import numpy as np\n",
        "import pandas as pd\n",
        "import seaborn as sns"
      ]
    },
    {
      "cell_type": "markdown",
      "id": "74ebd21c",
      "metadata": {
        "id": "74ebd21c"
      },
      "source": [
        "> Overview: This dataset, compiled by NREL using data from ABB, the Velocity Suite and the U.S. Energy Information Administration dataset 861, provides average residential, commercial and industrial electricity rates with likely zip codes for both investor owned utilities (IOU) and non-investor owned utilities. Note: the files include average rates for each utility (not average rates per zip code), but not the detailed rate structure data found in the OpenEI U.S. Utility Rate Database."
      ]
    },
    {
      "cell_type": "markdown",
      "id": "75831d60",
      "metadata": {
        "id": "75831d60"
      },
      "source": [
        "### Import Data"
      ]
    },
    {
      "cell_type": "code",
      "execution_count": null,
      "id": "a78b3f83",
      "metadata": {
        "id": "a78b3f83"
      },
      "outputs": [],
      "source": [
        "data_1 = pd.read_csv('iou_zipcodes_2021.csv') # investor owned utility\n",
        "data_2 = pd.read_csv('non_iou_zipcodes_2021.csv') # municipal utility"
      ]
    },
    {
      "cell_type": "markdown",
      "id": "eba915c4",
      "metadata": {
        "id": "eba915c4"
      },
      "source": [
        "### Preprocess Data"
      ]
    },
    {
      "cell_type": "code",
      "execution_count": null,
      "id": "249a443b",
      "metadata": {
        "id": "249a443b",
        "outputId": "6fd3cebb-639e-4606-cc1c-e688dc272a02"
      },
      "outputs": [
        {
          "data": {
            "text/html": [
              "<div>\n",
              "<style scoped>\n",
              "    .dataframe tbody tr th:only-of-type {\n",
              "        vertical-align: middle;\n",
              "    }\n",
              "\n",
              "    .dataframe tbody tr th {\n",
              "        vertical-align: top;\n",
              "    }\n",
              "\n",
              "    .dataframe thead th {\n",
              "        text-align: right;\n",
              "    }\n",
              "</style>\n",
              "<table border=\"1\" class=\"dataframe\">\n",
              "  <thead>\n",
              "    <tr style=\"text-align: right;\">\n",
              "      <th></th>\n",
              "      <th>zip</th>\n",
              "      <th>eiaid</th>\n",
              "      <th>utility_name</th>\n",
              "      <th>state</th>\n",
              "      <th>service_type</th>\n",
              "      <th>ownership</th>\n",
              "      <th>comm_rate</th>\n",
              "      <th>ind_rate</th>\n",
              "      <th>res_rate</th>\n",
              "    </tr>\n",
              "  </thead>\n",
              "  <tbody>\n",
              "    <tr>\n",
              "      <th>0</th>\n",
              "      <td>85321</td>\n",
              "      <td>176</td>\n",
              "      <td>Ajo Improvement Co</td>\n",
              "      <td>AZ</td>\n",
              "      <td>Bundled</td>\n",
              "      <td>Investor Owned</td>\n",
              "      <td>0.094948</td>\n",
              "      <td>0.000000</td>\n",
              "      <td>0.103273</td>\n",
              "    </tr>\n",
              "    <tr>\n",
              "      <th>1</th>\n",
              "      <td>36560</td>\n",
              "      <td>195</td>\n",
              "      <td>Alabama Power Co</td>\n",
              "      <td>AL</td>\n",
              "      <td>Bundled</td>\n",
              "      <td>Investor Owned</td>\n",
              "      <td>0.125520</td>\n",
              "      <td>0.068831</td>\n",
              "      <td>0.140362</td>\n",
              "    </tr>\n",
              "    <tr>\n",
              "      <th>2</th>\n",
              "      <td>36513</td>\n",
              "      <td>195</td>\n",
              "      <td>Alabama Power Co</td>\n",
              "      <td>AL</td>\n",
              "      <td>Bundled</td>\n",
              "      <td>Investor Owned</td>\n",
              "      <td>0.125520</td>\n",
              "      <td>0.068831</td>\n",
              "      <td>0.140362</td>\n",
              "    </tr>\n",
              "    <tr>\n",
              "      <th>3</th>\n",
              "      <td>36280</td>\n",
              "      <td>195</td>\n",
              "      <td>Alabama Power Co</td>\n",
              "      <td>AL</td>\n",
              "      <td>Bundled</td>\n",
              "      <td>Investor Owned</td>\n",
              "      <td>0.125520</td>\n",
              "      <td>0.068831</td>\n",
              "      <td>0.140362</td>\n",
              "    </tr>\n",
              "    <tr>\n",
              "      <th>4</th>\n",
              "      <td>35473</td>\n",
              "      <td>195</td>\n",
              "      <td>Alabama Power Co</td>\n",
              "      <td>AL</td>\n",
              "      <td>Bundled</td>\n",
              "      <td>Investor Owned</td>\n",
              "      <td>0.125520</td>\n",
              "      <td>0.068831</td>\n",
              "      <td>0.140362</td>\n",
              "    </tr>\n",
              "  </tbody>\n",
              "</table>\n",
              "</div>"
            ],
            "text/plain": [
              "     zip  eiaid        utility_name state service_type       ownership  \\\n",
              "0  85321    176  Ajo Improvement Co    AZ      Bundled  Investor Owned   \n",
              "1  36560    195    Alabama Power Co    AL      Bundled  Investor Owned   \n",
              "2  36513    195    Alabama Power Co    AL      Bundled  Investor Owned   \n",
              "3  36280    195    Alabama Power Co    AL      Bundled  Investor Owned   \n",
              "4  35473    195    Alabama Power Co    AL      Bundled  Investor Owned   \n",
              "\n",
              "   comm_rate  ind_rate  res_rate  \n",
              "0   0.094948  0.000000  0.103273  \n",
              "1   0.125520  0.068831  0.140362  \n",
              "2   0.125520  0.068831  0.140362  \n",
              "3   0.125520  0.068831  0.140362  \n",
              "4   0.125520  0.068831  0.140362  "
            ]
          },
          "execution_count": 3,
          "metadata": {},
          "output_type": "execute_result"
        }
      ],
      "source": [
        "data_1.head()"
      ]
    },
    {
      "cell_type": "code",
      "execution_count": null,
      "id": "3a0ef7b4",
      "metadata": {
        "id": "3a0ef7b4",
        "outputId": "4ef3cb11-1947-45d6-94de-207fa88e77bb"
      },
      "outputs": [
        {
          "data": {
            "text/html": [
              "<div>\n",
              "<style scoped>\n",
              "    .dataframe tbody tr th:only-of-type {\n",
              "        vertical-align: middle;\n",
              "    }\n",
              "\n",
              "    .dataframe tbody tr th {\n",
              "        vertical-align: top;\n",
              "    }\n",
              "\n",
              "    .dataframe thead th {\n",
              "        text-align: right;\n",
              "    }\n",
              "</style>\n",
              "<table border=\"1\" class=\"dataframe\">\n",
              "  <thead>\n",
              "    <tr style=\"text-align: right;\">\n",
              "      <th></th>\n",
              "      <th>zip</th>\n",
              "      <th>eiaid</th>\n",
              "      <th>utility_name</th>\n",
              "      <th>state</th>\n",
              "      <th>service_type</th>\n",
              "      <th>ownership</th>\n",
              "      <th>comm_rate</th>\n",
              "      <th>ind_rate</th>\n",
              "      <th>res_rate</th>\n",
              "    </tr>\n",
              "  </thead>\n",
              "  <tbody>\n",
              "    <tr>\n",
              "      <th>52172</th>\n",
              "      <td>96146</td>\n",
              "      <td>57483</td>\n",
              "      <td>Liberty Utilities</td>\n",
              "      <td>CA</td>\n",
              "      <td>Bundled</td>\n",
              "      <td>Investor Owned</td>\n",
              "      <td>0.134645</td>\n",
              "      <td>0.0</td>\n",
              "      <td>0.152264</td>\n",
              "    </tr>\n",
              "    <tr>\n",
              "      <th>52173</th>\n",
              "      <td>96161</td>\n",
              "      <td>57483</td>\n",
              "      <td>Liberty Utilities</td>\n",
              "      <td>CA</td>\n",
              "      <td>Bundled</td>\n",
              "      <td>Investor Owned</td>\n",
              "      <td>0.134645</td>\n",
              "      <td>0.0</td>\n",
              "      <td>0.152264</td>\n",
              "    </tr>\n",
              "    <tr>\n",
              "      <th>52174</th>\n",
              "      <td>96133</td>\n",
              "      <td>57483</td>\n",
              "      <td>Liberty Utilities</td>\n",
              "      <td>CA</td>\n",
              "      <td>Bundled</td>\n",
              "      <td>Investor Owned</td>\n",
              "      <td>0.134645</td>\n",
              "      <td>0.0</td>\n",
              "      <td>0.152264</td>\n",
              "    </tr>\n",
              "    <tr>\n",
              "      <th>52175</th>\n",
              "      <td>96118</td>\n",
              "      <td>57483</td>\n",
              "      <td>Liberty Utilities</td>\n",
              "      <td>CA</td>\n",
              "      <td>Bundled</td>\n",
              "      <td>Investor Owned</td>\n",
              "      <td>0.134645</td>\n",
              "      <td>0.0</td>\n",
              "      <td>0.152264</td>\n",
              "    </tr>\n",
              "    <tr>\n",
              "      <th>52176</th>\n",
              "      <td>96107</td>\n",
              "      <td>57483</td>\n",
              "      <td>Liberty Utilities</td>\n",
              "      <td>CA</td>\n",
              "      <td>Bundled</td>\n",
              "      <td>Investor Owned</td>\n",
              "      <td>0.134645</td>\n",
              "      <td>0.0</td>\n",
              "      <td>0.152264</td>\n",
              "    </tr>\n",
              "  </tbody>\n",
              "</table>\n",
              "</div>"
            ],
            "text/plain": [
              "         zip  eiaid       utility_name state service_type       ownership  \\\n",
              "52172  96146  57483  Liberty Utilities    CA      Bundled  Investor Owned   \n",
              "52173  96161  57483  Liberty Utilities    CA      Bundled  Investor Owned   \n",
              "52174  96133  57483  Liberty Utilities    CA      Bundled  Investor Owned   \n",
              "52175  96118  57483  Liberty Utilities    CA      Bundled  Investor Owned   \n",
              "52176  96107  57483  Liberty Utilities    CA      Bundled  Investor Owned   \n",
              "\n",
              "       comm_rate  ind_rate  res_rate  \n",
              "52172   0.134645       0.0  0.152264  \n",
              "52173   0.134645       0.0  0.152264  \n",
              "52174   0.134645       0.0  0.152264  \n",
              "52175   0.134645       0.0  0.152264  \n",
              "52176   0.134645       0.0  0.152264  "
            ]
          },
          "execution_count": 4,
          "metadata": {},
          "output_type": "execute_result"
        }
      ],
      "source": [
        "data_1.tail()"
      ]
    },
    {
      "cell_type": "code",
      "execution_count": null,
      "id": "4b65134d",
      "metadata": {
        "id": "4b65134d",
        "outputId": "594a4feb-15a6-4f8d-8c50-7264c875d343"
      },
      "outputs": [
        {
          "data": {
            "text/plain": [
              "(52177, 9)"
            ]
          },
          "execution_count": 5,
          "metadata": {},
          "output_type": "execute_result"
        }
      ],
      "source": [
        "data_1.shape"
      ]
    },
    {
      "cell_type": "code",
      "execution_count": null,
      "id": "b13a9c86",
      "metadata": {
        "id": "b13a9c86",
        "outputId": "8deeb2b5-3f31-45f2-fc0a-a4ba00d0d462"
      },
      "outputs": [
        {
          "name": "stdout",
          "output_type": "stream",
          "text": [
            "<class 'pandas.core.frame.DataFrame'>\n",
            "RangeIndex: 52177 entries, 0 to 52176\n",
            "Data columns (total 9 columns):\n",
            " #   Column        Non-Null Count  Dtype  \n",
            "---  ------        --------------  -----  \n",
            " 0   zip           52177 non-null  int64  \n",
            " 1   eiaid         52177 non-null  int64  \n",
            " 2   utility_name  52177 non-null  object \n",
            " 3   state         52177 non-null  object \n",
            " 4   service_type  52177 non-null  object \n",
            " 5   ownership     52177 non-null  object \n",
            " 6   comm_rate     52177 non-null  float64\n",
            " 7   ind_rate      52177 non-null  float64\n",
            " 8   res_rate      52177 non-null  float64\n",
            "dtypes: float64(3), int64(2), object(4)\n",
            "memory usage: 3.6+ MB\n"
          ]
        }
      ],
      "source": [
        "data_1.info()"
      ]
    },
    {
      "cell_type": "code",
      "execution_count": null,
      "id": "b82608a7",
      "metadata": {
        "id": "b82608a7",
        "outputId": "1078f995-ec78-465c-a12b-73735a3a65c8"
      },
      "outputs": [
        {
          "data": {
            "text/html": [
              "<div>\n",
              "<style scoped>\n",
              "    .dataframe tbody tr th:only-of-type {\n",
              "        vertical-align: middle;\n",
              "    }\n",
              "\n",
              "    .dataframe tbody tr th {\n",
              "        vertical-align: top;\n",
              "    }\n",
              "\n",
              "    .dataframe thead th {\n",
              "        text-align: right;\n",
              "    }\n",
              "</style>\n",
              "<table border=\"1\" class=\"dataframe\">\n",
              "  <thead>\n",
              "    <tr style=\"text-align: right;\">\n",
              "      <th></th>\n",
              "      <th>zip</th>\n",
              "      <th>eiaid</th>\n",
              "      <th>utility_name</th>\n",
              "      <th>state</th>\n",
              "      <th>service_type</th>\n",
              "      <th>ownership</th>\n",
              "      <th>comm_rate</th>\n",
              "      <th>ind_rate</th>\n",
              "      <th>res_rate</th>\n",
              "    </tr>\n",
              "  </thead>\n",
              "  <tbody>\n",
              "    <tr>\n",
              "      <th>0</th>\n",
              "      <td>39730</td>\n",
              "      <td>55</td>\n",
              "      <td>City of Aberdeen - (MS)</td>\n",
              "      <td>MS</td>\n",
              "      <td>Bundled</td>\n",
              "      <td>Municipal</td>\n",
              "      <td>0.115178</td>\n",
              "      <td>0.049913</td>\n",
              "      <td>0.115515</td>\n",
              "    </tr>\n",
              "    <tr>\n",
              "      <th>1</th>\n",
              "      <td>38858</td>\n",
              "      <td>55</td>\n",
              "      <td>City of Aberdeen - (MS)</td>\n",
              "      <td>MS</td>\n",
              "      <td>Bundled</td>\n",
              "      <td>Municipal</td>\n",
              "      <td>0.115178</td>\n",
              "      <td>0.049913</td>\n",
              "      <td>0.115515</td>\n",
              "    </tr>\n",
              "    <tr>\n",
              "      <th>2</th>\n",
              "      <td>21864</td>\n",
              "      <td>84</td>\n",
              "      <td>A &amp; N Electric Coop</td>\n",
              "      <td>MD</td>\n",
              "      <td>Bundled</td>\n",
              "      <td>Cooperative</td>\n",
              "      <td>0.121622</td>\n",
              "      <td>0.000000</td>\n",
              "      <td>0.121986</td>\n",
              "    </tr>\n",
              "    <tr>\n",
              "      <th>3</th>\n",
              "      <td>21824</td>\n",
              "      <td>84</td>\n",
              "      <td>A &amp; N Electric Coop</td>\n",
              "      <td>MD</td>\n",
              "      <td>Bundled</td>\n",
              "      <td>Cooperative</td>\n",
              "      <td>0.121622</td>\n",
              "      <td>0.000000</td>\n",
              "      <td>0.121986</td>\n",
              "    </tr>\n",
              "    <tr>\n",
              "      <th>4</th>\n",
              "      <td>21866</td>\n",
              "      <td>84</td>\n",
              "      <td>A &amp; N Electric Coop</td>\n",
              "      <td>MD</td>\n",
              "      <td>Bundled</td>\n",
              "      <td>Cooperative</td>\n",
              "      <td>0.121622</td>\n",
              "      <td>0.000000</td>\n",
              "      <td>0.121986</td>\n",
              "    </tr>\n",
              "  </tbody>\n",
              "</table>\n",
              "</div>"
            ],
            "text/plain": [
              "     zip  eiaid             utility_name state service_type    ownership  \\\n",
              "0  39730     55  City of Aberdeen - (MS)    MS      Bundled    Municipal   \n",
              "1  38858     55  City of Aberdeen - (MS)    MS      Bundled    Municipal   \n",
              "2  21864     84      A & N Electric Coop    MD      Bundled  Cooperative   \n",
              "3  21824     84      A & N Electric Coop    MD      Bundled  Cooperative   \n",
              "4  21866     84      A & N Electric Coop    MD      Bundled  Cooperative   \n",
              "\n",
              "   comm_rate  ind_rate  res_rate  \n",
              "0   0.115178  0.049913  0.115515  \n",
              "1   0.115178  0.049913  0.115515  \n",
              "2   0.121622  0.000000  0.121986  \n",
              "3   0.121622  0.000000  0.121986  \n",
              "4   0.121622  0.000000  0.121986  "
            ]
          },
          "execution_count": 7,
          "metadata": {},
          "output_type": "execute_result"
        }
      ],
      "source": [
        "data_2.head()"
      ]
    },
    {
      "cell_type": "code",
      "execution_count": null,
      "id": "9ebe04ee",
      "metadata": {
        "id": "9ebe04ee",
        "outputId": "1d942c55-2ea2-44ac-8147-9ed22fdd2721"
      },
      "outputs": [
        {
          "data": {
            "text/html": [
              "<div>\n",
              "<style scoped>\n",
              "    .dataframe tbody tr th:only-of-type {\n",
              "        vertical-align: middle;\n",
              "    }\n",
              "\n",
              "    .dataframe tbody tr th {\n",
              "        vertical-align: top;\n",
              "    }\n",
              "\n",
              "    .dataframe thead th {\n",
              "        text-align: right;\n",
              "    }\n",
              "</style>\n",
              "<table border=\"1\" class=\"dataframe\">\n",
              "  <thead>\n",
              "    <tr style=\"text-align: right;\">\n",
              "      <th></th>\n",
              "      <th>zip</th>\n",
              "      <th>eiaid</th>\n",
              "      <th>utility_name</th>\n",
              "      <th>state</th>\n",
              "      <th>service_type</th>\n",
              "      <th>ownership</th>\n",
              "      <th>comm_rate</th>\n",
              "      <th>ind_rate</th>\n",
              "      <th>res_rate</th>\n",
              "    </tr>\n",
              "  </thead>\n",
              "  <tbody>\n",
              "    <tr>\n",
              "      <th>28052</th>\n",
              "      <td>76540</td>\n",
              "      <td>55982</td>\n",
              "      <td>Heart of Texas Electric Coop</td>\n",
              "      <td>TX</td>\n",
              "      <td>Bundled</td>\n",
              "      <td>Cooperative</td>\n",
              "      <td>0.105728</td>\n",
              "      <td>0.05981</td>\n",
              "      <td>0.098084</td>\n",
              "    </tr>\n",
              "    <tr>\n",
              "      <th>28053</th>\n",
              "      <td>76703</td>\n",
              "      <td>55982</td>\n",
              "      <td>Heart of Texas Electric Coop</td>\n",
              "      <td>TX</td>\n",
              "      <td>Bundled</td>\n",
              "      <td>Cooperative</td>\n",
              "      <td>0.105728</td>\n",
              "      <td>0.05981</td>\n",
              "      <td>0.098084</td>\n",
              "    </tr>\n",
              "    <tr>\n",
              "      <th>28054</th>\n",
              "      <td>76702</td>\n",
              "      <td>55982</td>\n",
              "      <td>Heart of Texas Electric Coop</td>\n",
              "      <td>TX</td>\n",
              "      <td>Bundled</td>\n",
              "      <td>Cooperative</td>\n",
              "      <td>0.105728</td>\n",
              "      <td>0.05981</td>\n",
              "      <td>0.098084</td>\n",
              "    </tr>\n",
              "    <tr>\n",
              "      <th>28055</th>\n",
              "      <td>76597</td>\n",
              "      <td>55982</td>\n",
              "      <td>Heart of Texas Electric Coop</td>\n",
              "      <td>TX</td>\n",
              "      <td>Bundled</td>\n",
              "      <td>Cooperative</td>\n",
              "      <td>0.105728</td>\n",
              "      <td>0.05981</td>\n",
              "      <td>0.098084</td>\n",
              "    </tr>\n",
              "    <tr>\n",
              "      <th>28056</th>\n",
              "      <td>76598</td>\n",
              "      <td>55982</td>\n",
              "      <td>Heart of Texas Electric Coop</td>\n",
              "      <td>TX</td>\n",
              "      <td>Bundled</td>\n",
              "      <td>Cooperative</td>\n",
              "      <td>0.105728</td>\n",
              "      <td>0.05981</td>\n",
              "      <td>0.098084</td>\n",
              "    </tr>\n",
              "  </tbody>\n",
              "</table>\n",
              "</div>"
            ],
            "text/plain": [
              "         zip  eiaid                  utility_name state service_type  \\\n",
              "28052  76540  55982  Heart of Texas Electric Coop    TX      Bundled   \n",
              "28053  76703  55982  Heart of Texas Electric Coop    TX      Bundled   \n",
              "28054  76702  55982  Heart of Texas Electric Coop    TX      Bundled   \n",
              "28055  76597  55982  Heart of Texas Electric Coop    TX      Bundled   \n",
              "28056  76598  55982  Heart of Texas Electric Coop    TX      Bundled   \n",
              "\n",
              "         ownership  comm_rate  ind_rate  res_rate  \n",
              "28052  Cooperative   0.105728   0.05981  0.098084  \n",
              "28053  Cooperative   0.105728   0.05981  0.098084  \n",
              "28054  Cooperative   0.105728   0.05981  0.098084  \n",
              "28055  Cooperative   0.105728   0.05981  0.098084  \n",
              "28056  Cooperative   0.105728   0.05981  0.098084  "
            ]
          },
          "execution_count": 8,
          "metadata": {},
          "output_type": "execute_result"
        }
      ],
      "source": [
        "data_2.tail()"
      ]
    },
    {
      "cell_type": "code",
      "execution_count": null,
      "id": "f0af0056",
      "metadata": {
        "id": "f0af0056",
        "outputId": "20b78e33-7c56-4c88-c51b-2f409919a51f"
      },
      "outputs": [
        {
          "data": {
            "text/plain": [
              "(28057, 9)"
            ]
          },
          "execution_count": 9,
          "metadata": {},
          "output_type": "execute_result"
        }
      ],
      "source": [
        "data_2.shape"
      ]
    },
    {
      "cell_type": "code",
      "execution_count": null,
      "id": "e8d4aa78",
      "metadata": {
        "id": "e8d4aa78",
        "outputId": "3de5e988-5042-4f19-cc55-2219025fbffe"
      },
      "outputs": [
        {
          "name": "stdout",
          "output_type": "stream",
          "text": [
            "<class 'pandas.core.frame.DataFrame'>\n",
            "RangeIndex: 28057 entries, 0 to 28056\n",
            "Data columns (total 9 columns):\n",
            " #   Column        Non-Null Count  Dtype  \n",
            "---  ------        --------------  -----  \n",
            " 0   zip           28057 non-null  int64  \n",
            " 1   eiaid         28057 non-null  int64  \n",
            " 2   utility_name  28057 non-null  object \n",
            " 3   state         28057 non-null  object \n",
            " 4   service_type  28057 non-null  object \n",
            " 5   ownership     28057 non-null  object \n",
            " 6   comm_rate     28057 non-null  float64\n",
            " 7   ind_rate      28057 non-null  float64\n",
            " 8   res_rate      28057 non-null  float64\n",
            "dtypes: float64(3), int64(2), object(4)\n",
            "memory usage: 1.9+ MB\n"
          ]
        }
      ],
      "source": [
        "data_2.info()"
      ]
    },
    {
      "cell_type": "code",
      "execution_count": null,
      "id": "59ef3bd2",
      "metadata": {
        "id": "59ef3bd2"
      },
      "outputs": [],
      "source": [
        "# Concatenate IOU and non-IOU dataframes."
      ]
    },
    {
      "cell_type": "code",
      "execution_count": null,
      "id": "9f26438a",
      "metadata": {
        "id": "9f26438a"
      },
      "outputs": [],
      "source": [
        "data = pd.concat([data_1,data_2],ignore_index=True)"
      ]
    },
    {
      "cell_type": "code",
      "execution_count": null,
      "id": "a773cdbf",
      "metadata": {
        "id": "a773cdbf",
        "outputId": "558c59b8-901c-4865-ba8a-dd18a0009092"
      },
      "outputs": [
        {
          "data": {
            "text/html": [
              "<div>\n",
              "<style scoped>\n",
              "    .dataframe tbody tr th:only-of-type {\n",
              "        vertical-align: middle;\n",
              "    }\n",
              "\n",
              "    .dataframe tbody tr th {\n",
              "        vertical-align: top;\n",
              "    }\n",
              "\n",
              "    .dataframe thead th {\n",
              "        text-align: right;\n",
              "    }\n",
              "</style>\n",
              "<table border=\"1\" class=\"dataframe\">\n",
              "  <thead>\n",
              "    <tr style=\"text-align: right;\">\n",
              "      <th></th>\n",
              "      <th>zip</th>\n",
              "      <th>eiaid</th>\n",
              "      <th>utility_name</th>\n",
              "      <th>state</th>\n",
              "      <th>service_type</th>\n",
              "      <th>ownership</th>\n",
              "      <th>comm_rate</th>\n",
              "      <th>ind_rate</th>\n",
              "      <th>res_rate</th>\n",
              "    </tr>\n",
              "  </thead>\n",
              "  <tbody>\n",
              "    <tr>\n",
              "      <th>0</th>\n",
              "      <td>85321</td>\n",
              "      <td>176</td>\n",
              "      <td>Ajo Improvement Co</td>\n",
              "      <td>AZ</td>\n",
              "      <td>Bundled</td>\n",
              "      <td>Investor Owned</td>\n",
              "      <td>0.094948</td>\n",
              "      <td>0.000000</td>\n",
              "      <td>0.103273</td>\n",
              "    </tr>\n",
              "    <tr>\n",
              "      <th>1</th>\n",
              "      <td>36560</td>\n",
              "      <td>195</td>\n",
              "      <td>Alabama Power Co</td>\n",
              "      <td>AL</td>\n",
              "      <td>Bundled</td>\n",
              "      <td>Investor Owned</td>\n",
              "      <td>0.125520</td>\n",
              "      <td>0.068831</td>\n",
              "      <td>0.140362</td>\n",
              "    </tr>\n",
              "    <tr>\n",
              "      <th>2</th>\n",
              "      <td>36513</td>\n",
              "      <td>195</td>\n",
              "      <td>Alabama Power Co</td>\n",
              "      <td>AL</td>\n",
              "      <td>Bundled</td>\n",
              "      <td>Investor Owned</td>\n",
              "      <td>0.125520</td>\n",
              "      <td>0.068831</td>\n",
              "      <td>0.140362</td>\n",
              "    </tr>\n",
              "    <tr>\n",
              "      <th>3</th>\n",
              "      <td>36280</td>\n",
              "      <td>195</td>\n",
              "      <td>Alabama Power Co</td>\n",
              "      <td>AL</td>\n",
              "      <td>Bundled</td>\n",
              "      <td>Investor Owned</td>\n",
              "      <td>0.125520</td>\n",
              "      <td>0.068831</td>\n",
              "      <td>0.140362</td>\n",
              "    </tr>\n",
              "    <tr>\n",
              "      <th>4</th>\n",
              "      <td>35473</td>\n",
              "      <td>195</td>\n",
              "      <td>Alabama Power Co</td>\n",
              "      <td>AL</td>\n",
              "      <td>Bundled</td>\n",
              "      <td>Investor Owned</td>\n",
              "      <td>0.125520</td>\n",
              "      <td>0.068831</td>\n",
              "      <td>0.140362</td>\n",
              "    </tr>\n",
              "  </tbody>\n",
              "</table>\n",
              "</div>"
            ],
            "text/plain": [
              "     zip  eiaid        utility_name state service_type       ownership  \\\n",
              "0  85321    176  Ajo Improvement Co    AZ      Bundled  Investor Owned   \n",
              "1  36560    195    Alabama Power Co    AL      Bundled  Investor Owned   \n",
              "2  36513    195    Alabama Power Co    AL      Bundled  Investor Owned   \n",
              "3  36280    195    Alabama Power Co    AL      Bundled  Investor Owned   \n",
              "4  35473    195    Alabama Power Co    AL      Bundled  Investor Owned   \n",
              "\n",
              "   comm_rate  ind_rate  res_rate  \n",
              "0   0.094948  0.000000  0.103273  \n",
              "1   0.125520  0.068831  0.140362  \n",
              "2   0.125520  0.068831  0.140362  \n",
              "3   0.125520  0.068831  0.140362  \n",
              "4   0.125520  0.068831  0.140362  "
            ]
          },
          "execution_count": 12,
          "metadata": {},
          "output_type": "execute_result"
        }
      ],
      "source": [
        "data.head()"
      ]
    },
    {
      "cell_type": "code",
      "execution_count": null,
      "id": "2bdf6dab",
      "metadata": {
        "id": "2bdf6dab",
        "outputId": "4cf86e17-79a8-429f-d0ff-142c546980f0"
      },
      "outputs": [
        {
          "data": {
            "text/html": [
              "<div>\n",
              "<style scoped>\n",
              "    .dataframe tbody tr th:only-of-type {\n",
              "        vertical-align: middle;\n",
              "    }\n",
              "\n",
              "    .dataframe tbody tr th {\n",
              "        vertical-align: top;\n",
              "    }\n",
              "\n",
              "    .dataframe thead th {\n",
              "        text-align: right;\n",
              "    }\n",
              "</style>\n",
              "<table border=\"1\" class=\"dataframe\">\n",
              "  <thead>\n",
              "    <tr style=\"text-align: right;\">\n",
              "      <th></th>\n",
              "      <th>zip</th>\n",
              "      <th>eiaid</th>\n",
              "      <th>utility_name</th>\n",
              "      <th>state</th>\n",
              "      <th>service_type</th>\n",
              "      <th>ownership</th>\n",
              "      <th>comm_rate</th>\n",
              "      <th>ind_rate</th>\n",
              "      <th>res_rate</th>\n",
              "    </tr>\n",
              "  </thead>\n",
              "  <tbody>\n",
              "    <tr>\n",
              "      <th>80229</th>\n",
              "      <td>76540</td>\n",
              "      <td>55982</td>\n",
              "      <td>Heart of Texas Electric Coop</td>\n",
              "      <td>TX</td>\n",
              "      <td>Bundled</td>\n",
              "      <td>Cooperative</td>\n",
              "      <td>0.105728</td>\n",
              "      <td>0.05981</td>\n",
              "      <td>0.098084</td>\n",
              "    </tr>\n",
              "    <tr>\n",
              "      <th>80230</th>\n",
              "      <td>76703</td>\n",
              "      <td>55982</td>\n",
              "      <td>Heart of Texas Electric Coop</td>\n",
              "      <td>TX</td>\n",
              "      <td>Bundled</td>\n",
              "      <td>Cooperative</td>\n",
              "      <td>0.105728</td>\n",
              "      <td>0.05981</td>\n",
              "      <td>0.098084</td>\n",
              "    </tr>\n",
              "    <tr>\n",
              "      <th>80231</th>\n",
              "      <td>76702</td>\n",
              "      <td>55982</td>\n",
              "      <td>Heart of Texas Electric Coop</td>\n",
              "      <td>TX</td>\n",
              "      <td>Bundled</td>\n",
              "      <td>Cooperative</td>\n",
              "      <td>0.105728</td>\n",
              "      <td>0.05981</td>\n",
              "      <td>0.098084</td>\n",
              "    </tr>\n",
              "    <tr>\n",
              "      <th>80232</th>\n",
              "      <td>76597</td>\n",
              "      <td>55982</td>\n",
              "      <td>Heart of Texas Electric Coop</td>\n",
              "      <td>TX</td>\n",
              "      <td>Bundled</td>\n",
              "      <td>Cooperative</td>\n",
              "      <td>0.105728</td>\n",
              "      <td>0.05981</td>\n",
              "      <td>0.098084</td>\n",
              "    </tr>\n",
              "    <tr>\n",
              "      <th>80233</th>\n",
              "      <td>76598</td>\n",
              "      <td>55982</td>\n",
              "      <td>Heart of Texas Electric Coop</td>\n",
              "      <td>TX</td>\n",
              "      <td>Bundled</td>\n",
              "      <td>Cooperative</td>\n",
              "      <td>0.105728</td>\n",
              "      <td>0.05981</td>\n",
              "      <td>0.098084</td>\n",
              "    </tr>\n",
              "  </tbody>\n",
              "</table>\n",
              "</div>"
            ],
            "text/plain": [
              "         zip  eiaid                  utility_name state service_type  \\\n",
              "80229  76540  55982  Heart of Texas Electric Coop    TX      Bundled   \n",
              "80230  76703  55982  Heart of Texas Electric Coop    TX      Bundled   \n",
              "80231  76702  55982  Heart of Texas Electric Coop    TX      Bundled   \n",
              "80232  76597  55982  Heart of Texas Electric Coop    TX      Bundled   \n",
              "80233  76598  55982  Heart of Texas Electric Coop    TX      Bundled   \n",
              "\n",
              "         ownership  comm_rate  ind_rate  res_rate  \n",
              "80229  Cooperative   0.105728   0.05981  0.098084  \n",
              "80230  Cooperative   0.105728   0.05981  0.098084  \n",
              "80231  Cooperative   0.105728   0.05981  0.098084  \n",
              "80232  Cooperative   0.105728   0.05981  0.098084  \n",
              "80233  Cooperative   0.105728   0.05981  0.098084  "
            ]
          },
          "execution_count": 13,
          "metadata": {},
          "output_type": "execute_result"
        }
      ],
      "source": [
        "data.tail()"
      ]
    },
    {
      "cell_type": "code",
      "execution_count": null,
      "id": "cf215683",
      "metadata": {
        "id": "cf215683",
        "outputId": "460c6438-973b-439f-c7a9-d3f9b37761f5"
      },
      "outputs": [
        {
          "data": {
            "text/plain": [
              "(80234, 9)"
            ]
          },
          "execution_count": 14,
          "metadata": {},
          "output_type": "execute_result"
        }
      ],
      "source": [
        "data.shape"
      ]
    },
    {
      "cell_type": "code",
      "execution_count": null,
      "id": "cde45eb9",
      "metadata": {
        "id": "cde45eb9",
        "outputId": "1b4c4226-a126-4c5e-b081-739d0d0dcdb9"
      },
      "outputs": [
        {
          "name": "stdout",
          "output_type": "stream",
          "text": [
            "Number of columns:80234\n",
            "Number of rows:9\n"
          ]
        }
      ],
      "source": [
        "print('Number of columns:{}'.format(data.shape[0]))\n",
        "print('Number of rows:{}'.format(data.shape[1]))"
      ]
    },
    {
      "cell_type": "code",
      "execution_count": null,
      "id": "84cb6d27",
      "metadata": {
        "id": "84cb6d27",
        "outputId": "a2f187eb-f49a-4a7b-dfc5-df536e155011"
      },
      "outputs": [
        {
          "name": "stdout",
          "output_type": "stream",
          "text": [
            "<class 'pandas.core.frame.DataFrame'>\n",
            "RangeIndex: 80234 entries, 0 to 80233\n",
            "Data columns (total 9 columns):\n",
            " #   Column        Non-Null Count  Dtype  \n",
            "---  ------        --------------  -----  \n",
            " 0   zip           80234 non-null  int64  \n",
            " 1   eiaid         80234 non-null  int64  \n",
            " 2   utility_name  80234 non-null  object \n",
            " 3   state         80234 non-null  object \n",
            " 4   service_type  80234 non-null  object \n",
            " 5   ownership     80234 non-null  object \n",
            " 6   comm_rate     80234 non-null  float64\n",
            " 7   ind_rate      80234 non-null  float64\n",
            " 8   res_rate      80234 non-null  float64\n",
            "dtypes: float64(3), int64(2), object(4)\n",
            "memory usage: 5.5+ MB\n"
          ]
        }
      ],
      "source": [
        "data.info()"
      ]
    },
    {
      "cell_type": "code",
      "execution_count": null,
      "id": "9f8c420e",
      "metadata": {
        "id": "9f8c420e",
        "outputId": "2af75014-4f6e-4266-d926-535e8ae6d66c"
      },
      "outputs": [
        {
          "data": {
            "text/plain": [
              "RangeIndex(start=0, stop=80234, step=1)"
            ]
          },
          "execution_count": 17,
          "metadata": {},
          "output_type": "execute_result"
        }
      ],
      "source": [
        "data.index"
      ]
    },
    {
      "cell_type": "code",
      "execution_count": null,
      "id": "37a1c01e",
      "metadata": {
        "id": "37a1c01e"
      },
      "outputs": [],
      "source": [
        "# Check for null & duplicated values."
      ]
    },
    {
      "cell_type": "code",
      "execution_count": null,
      "id": "6088905d",
      "metadata": {
        "id": "6088905d",
        "outputId": "53fe59c1-12c3-45fa-b3b3-a09e8db44ddb"
      },
      "outputs": [
        {
          "data": {
            "text/plain": [
              "res_rate        0\n",
              "ind_rate        0\n",
              "comm_rate       0\n",
              "ownership       0\n",
              "service_type    0\n",
              "state           0\n",
              "utility_name    0\n",
              "eiaid           0\n",
              "zip             0\n",
              "dtype: int64"
            ]
          },
          "execution_count": 18,
          "metadata": {},
          "output_type": "execute_result"
        }
      ],
      "source": [
        "data.isnull().sum().sort_values(ascending=False)"
      ]
    },
    {
      "cell_type": "code",
      "execution_count": null,
      "id": "9b235dec",
      "metadata": {
        "id": "9b235dec"
      },
      "outputs": [],
      "source": [
        "# Check for duplicated values."
      ]
    },
    {
      "cell_type": "code",
      "execution_count": null,
      "id": "117aeac6",
      "metadata": {
        "id": "117aeac6",
        "outputId": "524a6029-160d-4298-bc66-824caf04ba22"
      },
      "outputs": [
        {
          "data": {
            "text/plain": [
              "0"
            ]
          },
          "execution_count": 19,
          "metadata": {},
          "output_type": "execute_result"
        }
      ],
      "source": [
        "data.duplicated().sum()"
      ]
    },
    {
      "cell_type": "code",
      "execution_count": null,
      "id": "d41aa2eb",
      "metadata": {
        "id": "d41aa2eb"
      },
      "outputs": [],
      "source": [
        "# Outlier Detection"
      ]
    },
    {
      "cell_type": "code",
      "execution_count": null,
      "id": "ccb20ef6",
      "metadata": {
        "id": "ccb20ef6",
        "outputId": "a7ecc0d2-f3d0-4a92-abb6-cf822c08b528"
      },
      "outputs": [
        {
          "data": {
            "image/png": "[encoded data removed]",
            "text/plain": [
              "<Figure size 432x288 with 1 Axes>"
            ]
          },
          "metadata": {
            "needs_background": "light"
          },
          "output_type": "display_data"
        },
        {
          "data": {
            "image/png": "[encoded data removed]",
            "text/plain": [
              "<Figure size 432x288 with 1 Axes>"
            ]
          },
          "metadata": {
            "needs_background": "light"
          },
          "output_type": "display_data"
        },
        {
          "data": {
            "image/png": "[encoded data removed]",
            "text/plain": [
              "<Figure size 432x288 with 1 Axes>"
            ]
          },
          "metadata": {
            "needs_background": "light"
          },
          "output_type": "display_data"
        },
        {
          "data": {
            "image/png": "[encoded data removed]",
            "text/plain": [
              "<Figure size 432x288 with 1 Axes>"
            ]
          },
          "metadata": {
            "needs_background": "light"
          },
          "output_type": "display_data"
        },
        {
          "data": {
            "image/png": "[encoded data removed]",
            "text/plain": [
              "<Figure size 432x288 with 1 Axes>"
            ]
          },
          "metadata": {
            "needs_background": "light"
          },
          "output_type": "display_data"
        }
      ],
      "source": [
        "for column in data.select_dtypes(exclude='object'):\n",
        "    plt.figure()\n",
        "    plt.title('Outlier Detection')\n",
        "    data.boxplot([column])"
      ]
    },
    {
      "cell_type": "code",
      "execution_count": null,
      "id": "698bfd90",
      "metadata": {
        "id": "698bfd90"
      },
      "outputs": [],
      "source": [
        "# Quantivative v Qualitative Variables."
      ]
    },
    {
      "cell_type": "code",
      "execution_count": null,
      "id": "730a7765",
      "metadata": {
        "id": "730a7765"
      },
      "outputs": [],
      "source": [
        "cat = []\n",
        "cont = []\n",
        "\n",
        "for i in data.columns:\n",
        "    if data[i].nunique() <= 10:\n",
        "        cat.append(i)\n",
        "    else:\n",
        "        cont.append(i)"
      ]
    },
    {
      "cell_type": "code",
      "execution_count": null,
      "id": "1261ff3e",
      "metadata": {
        "scrolled": true,
        "id": "1261ff3e",
        "outputId": "6224384d-788e-4f04-873d-f8fdd97e407d"
      },
      "outputs": [
        {
          "data": {
            "text/plain": [
              "['service_type', 'ownership']"
            ]
          },
          "execution_count": 22,
          "metadata": {},
          "output_type": "execute_result"
        }
      ],
      "source": [
        "cat"
      ]
    },
    {
      "cell_type": "code",
      "execution_count": null,
      "id": "1c3efacf",
      "metadata": {
        "id": "1c3efacf",
        "outputId": "7eb05872-051b-4e26-d57d-45b22c63254c"
      },
      "outputs": [
        {
          "data": {
            "text/plain": [
              "['zip', 'eiaid', 'utility_name', 'state', 'comm_rate', 'ind_rate', 'res_rate']"
            ]
          },
          "execution_count": 23,
          "metadata": {},
          "output_type": "execute_result"
        }
      ],
      "source": [
        "cont"
      ]
    },
    {
      "cell_type": "markdown",
      "id": "1a2ea206",
      "metadata": {
        "id": "1a2ea206"
      },
      "source": [
        "### Exploratory Data Analytics"
      ]
    },
    {
      "cell_type": "code",
      "execution_count": null,
      "id": "7527970c",
      "metadata": {
        "scrolled": true,
        "id": "7527970c",
        "outputId": "50077cd9-1acb-43c7-b648-947093531eda"
      },
      "outputs": [
        {
          "data": {
            "text/html": [
              "<div>\n",
              "<style scoped>\n",
              "    .dataframe tbody tr th:only-of-type {\n",
              "        vertical-align: middle;\n",
              "    }\n",
              "\n",
              "    .dataframe tbody tr th {\n",
              "        vertical-align: top;\n",
              "    }\n",
              "\n",
              "    .dataframe thead th {\n",
              "        text-align: right;\n",
              "    }\n",
              "</style>\n",
              "<table border=\"1\" class=\"dataframe\">\n",
              "  <thead>\n",
              "    <tr style=\"text-align: right;\">\n",
              "      <th></th>\n",
              "      <th>zip</th>\n",
              "      <th>eiaid</th>\n",
              "      <th>comm_rate</th>\n",
              "      <th>ind_rate</th>\n",
              "      <th>res_rate</th>\n",
              "    </tr>\n",
              "  </thead>\n",
              "  <tbody>\n",
              "    <tr>\n",
              "      <th>count</th>\n",
              "      <td>80234.000000</td>\n",
              "      <td>80234.000000</td>\n",
              "      <td>80234.000000</td>\n",
              "      <td>80234.000000</td>\n",
              "      <td>80234.000000</td>\n",
              "    </tr>\n",
              "    <tr>\n",
              "      <th>mean</th>\n",
              "      <td>46440.265960</td>\n",
              "      <td>13788.086397</td>\n",
              "      <td>0.102487</td>\n",
              "      <td>0.070987</td>\n",
              "      <td>0.121709</td>\n",
              "    </tr>\n",
              "    <tr>\n",
              "      <th>std</th>\n",
              "      <td>27924.495284</td>\n",
              "      <td>10678.432995</td>\n",
              "      <td>0.046413</td>\n",
              "      <td>0.044896</td>\n",
              "      <td>0.052981</td>\n",
              "    </tr>\n",
              "    <tr>\n",
              "      <th>min</th>\n",
              "      <td>501.000000</td>\n",
              "      <td>55.000000</td>\n",
              "      <td>0.000000</td>\n",
              "      <td>0.000000</td>\n",
              "      <td>0.000000</td>\n",
              "    </tr>\n",
              "    <tr>\n",
              "      <th>25%</th>\n",
              "      <td>21659.250000</td>\n",
              "      <td>6422.000000</td>\n",
              "      <td>0.083356</td>\n",
              "      <td>0.052434</td>\n",
              "      <td>0.103853</td>\n",
              "    </tr>\n",
              "    <tr>\n",
              "      <th>50%</th>\n",
              "      <td>44409.000000</td>\n",
              "      <td>13573.000000</td>\n",
              "      <td>0.104212</td>\n",
              "      <td>0.069488</td>\n",
              "      <td>0.121303</td>\n",
              "    </tr>\n",
              "    <tr>\n",
              "      <th>75%</th>\n",
              "      <td>68028.750000</td>\n",
              "      <td>17066.000000</td>\n",
              "      <td>0.121143</td>\n",
              "      <td>0.085861</td>\n",
              "      <td>0.140362</td>\n",
              "    </tr>\n",
              "    <tr>\n",
              "      <th>max</th>\n",
              "      <td>99950.000000</td>\n",
              "      <td>57483.000000</td>\n",
              "      <td>0.381222</td>\n",
              "      <td>0.359823</td>\n",
              "      <td>0.472790</td>\n",
              "    </tr>\n",
              "  </tbody>\n",
              "</table>\n",
              "</div>"
            ],
            "text/plain": [
              "                zip         eiaid     comm_rate      ind_rate      res_rate\n",
              "count  80234.000000  80234.000000  80234.000000  80234.000000  80234.000000\n",
              "mean   46440.265960  13788.086397      0.102487      0.070987      0.121709\n",
              "std    27924.495284  10678.432995      0.046413      0.044896      0.052981\n",
              "min      501.000000     55.000000      0.000000      0.000000      0.000000\n",
              "25%    21659.250000   6422.000000      0.083356      0.052434      0.103853\n",
              "50%    44409.000000  13573.000000      0.104212      0.069488      0.121303\n",
              "75%    68028.750000  17066.000000      0.121143      0.085861      0.140362\n",
              "max    99950.000000  57483.000000      0.381222      0.359823      0.472790"
            ]
          },
          "execution_count": 24,
          "metadata": {},
          "output_type": "execute_result"
        }
      ],
      "source": [
        "data.describe()"
      ]
    },
    {
      "cell_type": "code",
      "execution_count": null,
      "id": "b4953fbf",
      "metadata": {
        "id": "b4953fbf",
        "outputId": "7d200b5c-ef49-4531-de31-3705870e8906"
      },
      "outputs": [
        {
          "data": {
            "text/html": [
              "<div>\n",
              "<style scoped>\n",
              "    .dataframe tbody tr th:only-of-type {\n",
              "        vertical-align: middle;\n",
              "    }\n",
              "\n",
              "    .dataframe tbody tr th {\n",
              "        vertical-align: top;\n",
              "    }\n",
              "\n",
              "    .dataframe thead th {\n",
              "        text-align: right;\n",
              "    }\n",
              "</style>\n",
              "<table border=\"1\" class=\"dataframe\">\n",
              "  <thead>\n",
              "    <tr style=\"text-align: right;\">\n",
              "      <th></th>\n",
              "      <th>utility_name</th>\n",
              "      <th>state</th>\n",
              "      <th>service_type</th>\n",
              "      <th>ownership</th>\n",
              "    </tr>\n",
              "  </thead>\n",
              "  <tbody>\n",
              "    <tr>\n",
              "      <th>count</th>\n",
              "      <td>80234</td>\n",
              "      <td>80234</td>\n",
              "      <td>80234</td>\n",
              "      <td>80234</td>\n",
              "    </tr>\n",
              "    <tr>\n",
              "      <th>unique</th>\n",
              "      <td>1196</td>\n",
              "      <td>51</td>\n",
              "      <td>3</td>\n",
              "      <td>7</td>\n",
              "    </tr>\n",
              "    <tr>\n",
              "      <th>top</th>\n",
              "      <td>Pacific Gas &amp; Electric Co.</td>\n",
              "      <td>PA</td>\n",
              "      <td>Bundled</td>\n",
              "      <td>Investor Owned</td>\n",
              "    </tr>\n",
              "    <tr>\n",
              "      <th>freq</th>\n",
              "      <td>2280</td>\n",
              "      <td>5936</td>\n",
              "      <td>62461</td>\n",
              "      <td>52177</td>\n",
              "    </tr>\n",
              "  </tbody>\n",
              "</table>\n",
              "</div>"
            ],
            "text/plain": [
              "                      utility_name  state service_type       ownership\n",
              "count                        80234  80234        80234           80234\n",
              "unique                        1196     51            3               7\n",
              "top     Pacific Gas & Electric Co.     PA      Bundled  Investor Owned\n",
              "freq                          2280   5936        62461           52177"
            ]
          },
          "execution_count": 25,
          "metadata": {},
          "output_type": "execute_result"
        }
      ],
      "source": [
        "data.describe(include='object')"
      ]
    },
    {
      "cell_type": "code",
      "execution_count": null,
      "id": "8cd24256",
      "metadata": {
        "id": "8cd24256"
      },
      "outputs": [],
      "source": [
        "# Distribution of Attributes."
      ]
    },
    {
      "cell_type": "code",
      "execution_count": null,
      "id": "d79d1dca",
      "metadata": {
        "id": "d79d1dca",
        "outputId": "048bbb55-c643-4114-bbae-61e83fbb793a"
      },
      "outputs": [
        {
          "name": "stdout",
          "output_type": "stream",
          "text": [
            "zip\n",
            "eiaid\n",
            "utility_name\n",
            "state\n",
            "service_type\n",
            "ownership\n",
            "comm_rate\n",
            "ind_rate\n",
            "res_rate\n"
          ]
        }
      ],
      "source": [
        "for column in data:\n",
        "    print(column)"
      ]
    },
    {
      "cell_type": "code",
      "execution_count": null,
      "id": "7819f7ff",
      "metadata": {
        "id": "7819f7ff",
        "outputId": "861cb495-d75c-4a9f-ea6c-97eef30966d8"
      },
      "outputs": [
        {
          "data": {
            "image/png": "[encoded data removed]",
            "text/plain": [
              "<Figure size 360x360 with 1 Axes>"
            ]
          },
          "metadata": {
            "needs_background": "light"
          },
          "output_type": "display_data"
        },
        {
          "data": {
            "image/png": "[encoded data removed]",
            "text/plain": [
              "<Figure size 360x360 with 1 Axes>"
            ]
          },
          "metadata": {
            "needs_background": "light"
          },
          "output_type": "display_data"
        },
        {
          "data": {
            "image/png": "[encoded data removed]",
            "text/plain": [
              "<Figure size 360x360 with 1 Axes>"
            ]
          },
          "metadata": {
            "needs_background": "light"
          },
          "output_type": "display_data"
        },
        {
          "data": {
            "image/png": "[encoded data removed]",
            "text/plain": [
              "<Figure size 360x360 with 1 Axes>"
            ]
          },
          "metadata": {
            "needs_background": "light"
          },
          "output_type": "display_data"
        },
        {
          "data": {
            "image/png": "[encoded data removed]",
            "text/plain": [
              "<Figure size 360x360 with 1 Axes>"
            ]
          },
          "metadata": {
            "needs_background": "light"
          },
          "output_type": "display_data"
        },
        {
          "data": {
            "image/png": "[encoded data removed]",
            "text/plain": [
              "<Figure size 360x360 with 1 Axes>"
            ]
          },
          "metadata": {
            "needs_background": "light"
          },
          "output_type": "display_data"
        },
        {
          "data": {
            "image/png": "[encoded data removed]",
            "text/plain": [
              "<Figure size 360x360 with 1 Axes>"
            ]
          },
          "metadata": {
            "needs_background": "light"
          },
          "output_type": "display_data"
        },
        {
          "data": {
            "image/png": "[encoded data removed]",
            "text/plain": [
              "<Figure size 360x360 with 1 Axes>"
            ]
          },
          "metadata": {
            "needs_background": "light"
          },
          "output_type": "display_data"
        },
        {
          "data": {
            "image/png": "[encoded data removed]",
            "text/plain": [
              "<Figure size 360x360 with 1 Axes>"
            ]
          },
          "metadata": {
            "needs_background": "light"
          },
          "output_type": "display_data"
        }
      ],
      "source": [
        "for column in data:\n",
        "    sns.displot(x=column,data=data)\n",
        "    plt.title('Distribution of Attributes')\n",
        "    plt.show()"
      ]
    },
    {
      "cell_type": "code",
      "execution_count": null,
      "id": "375bd655",
      "metadata": {
        "id": "375bd655"
      },
      "outputs": [],
      "source": [
        "# Correlation Heat Map."
      ]
    },
    {
      "cell_type": "code",
      "execution_count": null,
      "id": "e8dabe3b",
      "metadata": {
        "id": "e8dabe3b",
        "outputId": "4ec9ab09-c192-47f3-b631-2ba71a59ca65"
      },
      "outputs": [
        {
          "data": {
            "text/html": [
              "<div>\n",
              "<style scoped>\n",
              "    .dataframe tbody tr th:only-of-type {\n",
              "        vertical-align: middle;\n",
              "    }\n",
              "\n",
              "    .dataframe tbody tr th {\n",
              "        vertical-align: top;\n",
              "    }\n",
              "\n",
              "    .dataframe thead th {\n",
              "        text-align: right;\n",
              "    }\n",
              "</style>\n",
              "<table border=\"1\" class=\"dataframe\">\n",
              "  <thead>\n",
              "    <tr style=\"text-align: right;\">\n",
              "      <th></th>\n",
              "      <th>zip</th>\n",
              "      <th>eiaid</th>\n",
              "      <th>comm_rate</th>\n",
              "      <th>ind_rate</th>\n",
              "      <th>res_rate</th>\n",
              "    </tr>\n",
              "  </thead>\n",
              "  <tbody>\n",
              "    <tr>\n",
              "      <th>zip</th>\n",
              "      <td>1.000000</td>\n",
              "      <td>0.070880</td>\n",
              "      <td>0.213376</td>\n",
              "      <td>0.144916</td>\n",
              "      <td>0.116769</td>\n",
              "    </tr>\n",
              "    <tr>\n",
              "      <th>eiaid</th>\n",
              "      <td>0.070880</td>\n",
              "      <td>1.000000</td>\n",
              "      <td>-0.057575</td>\n",
              "      <td>-0.008859</td>\n",
              "      <td>-0.061013</td>\n",
              "    </tr>\n",
              "    <tr>\n",
              "      <th>comm_rate</th>\n",
              "      <td>0.213376</td>\n",
              "      <td>-0.057575</td>\n",
              "      <td>1.000000</td>\n",
              "      <td>0.747040</td>\n",
              "      <td>0.878680</td>\n",
              "    </tr>\n",
              "    <tr>\n",
              "      <th>ind_rate</th>\n",
              "      <td>0.144916</td>\n",
              "      <td>-0.008859</td>\n",
              "      <td>0.747040</td>\n",
              "      <td>1.000000</td>\n",
              "      <td>0.708386</td>\n",
              "    </tr>\n",
              "    <tr>\n",
              "      <th>res_rate</th>\n",
              "      <td>0.116769</td>\n",
              "      <td>-0.061013</td>\n",
              "      <td>0.878680</td>\n",
              "      <td>0.708386</td>\n",
              "      <td>1.000000</td>\n",
              "    </tr>\n",
              "  </tbody>\n",
              "</table>\n",
              "</div>"
            ],
            "text/plain": [
              "                zip     eiaid  comm_rate  ind_rate  res_rate\n",
              "zip        1.000000  0.070880   0.213376  0.144916  0.116769\n",
              "eiaid      0.070880  1.000000  -0.057575 -0.008859 -0.061013\n",
              "comm_rate  0.213376 -0.057575   1.000000  0.747040  0.878680\n",
              "ind_rate   0.144916 -0.008859   0.747040  1.000000  0.708386\n",
              "res_rate   0.116769 -0.061013   0.878680  0.708386  1.000000"
            ]
          },
          "execution_count": 30,
          "metadata": {},
          "output_type": "execute_result"
        }
      ],
      "source": [
        "data.corr()"
      ]
    },
    {
      "cell_type": "code",
      "execution_count": null,
      "id": "c6d5252d",
      "metadata": {
        "scrolled": true,
        "id": "c6d5252d",
        "outputId": "7123f3ff-9969-4e71-c46c-71f4e152d850"
      },
      "outputs": [
        {
          "data": {
            "image/png": "[encoded data removed]",
            "text/plain": [
              "<Figure size 432x288 with 2 Axes>"
            ]
          },
          "metadata": {
            "needs_background": "light"
          },
          "output_type": "display_data"
        }
      ],
      "source": [
        "sns.heatmap(data.corr())\n",
        "plt.title('Correlation Heat Map')\n",
        "plt.show()"
      ]
    },
    {
      "cell_type": "code",
      "execution_count": null,
      "id": "362f2ace",
      "metadata": {
        "id": "362f2ace"
      },
      "outputs": [],
      "source": [
        "# Visualize Categorical Data."
      ]
    },
    {
      "cell_type": "code",
      "execution_count": null,
      "id": "c25c57d9",
      "metadata": {
        "id": "c25c57d9",
        "outputId": "dff2689d-befa-4b7b-d4ba-4e7fc38b6c96"
      },
      "outputs": [
        {
          "data": {
            "text/plain": [
              "service_type  ownership            \n",
              "Bundled       Investor Owned           34924\n",
              "              Cooperative              20175\n",
              "Delivery      Investor Owned           17253\n",
              "Bundled       Municipal                 3466\n",
              "              Federal                   1836\n",
              "              Political Subdivision     1485\n",
              "              State                      319\n",
              "              Retail Power Marketer      256\n",
              "Delivery      Cooperative                231\n",
              "              State                      209\n",
              "Energy        Political Subdivision       28\n",
              "Delivery      Political Subdivision       24\n",
              "              Municipal                   19\n",
              "Energy        Municipal                    9\n",
              "dtype: int64"
            ]
          },
          "execution_count": 28,
          "metadata": {},
          "output_type": "execute_result"
        }
      ],
      "source": [
        "data[cat].value_counts()"
      ]
    },
    {
      "cell_type": "code",
      "execution_count": null,
      "id": "84d14e17",
      "metadata": {
        "scrolled": true,
        "id": "84d14e17",
        "outputId": "3bdcc7a6-5255-4055-c676-92652261b33b"
      },
      "outputs": [
        {
          "data": {
            "image/png": "[encoded data removed]",
            "text/plain": [
              "<Figure size 432x288 with 1 Axes>"
            ]
          },
          "metadata": {
            "needs_background": "light"
          },
          "output_type": "display_data"
        }
      ],
      "source": [
        "data[cat].value_counts(ascending=True).plot(kind='barh')\n",
        "plt.title('Distribution of Ownership By Service Type')\n",
        "plt.xticks(rotation=65)\n",
        "plt.show()"
      ]
    },
    {
      "cell_type": "markdown",
      "id": "00b214bf",
      "metadata": {
        "id": "00b214bf"
      },
      "source": [
        "### Uni-variate Analysis"
      ]
    },
    {
      "cell_type": "code",
      "execution_count": null,
      "id": "e5e44f29",
      "metadata": {
        "id": "e5e44f29",
        "outputId": "cfe85e89-ddc7-4fa1-825c-82bb4244b03a"
      },
      "outputs": [
        {
          "data": {
            "text/plain": [
              "Index(['zip', 'eiaid', 'utility_name', 'state', 'service_type', 'ownership',\n",
              "       'comm_rate', 'ind_rate', 'res_rate'],\n",
              "      dtype='object')"
            ]
          },
          "execution_count": 32,
          "metadata": {},
          "output_type": "execute_result"
        }
      ],
      "source": [
        "data.columns"
      ]
    },
    {
      "cell_type": "code",
      "execution_count": null,
      "id": "b7cc6d3b",
      "metadata": {
        "id": "b7cc6d3b"
      },
      "outputs": [],
      "source": [
        "# Count of Utilites in Country."
      ]
    },
    {
      "cell_type": "code",
      "execution_count": null,
      "id": "74e51ee3",
      "metadata": {
        "id": "74e51ee3",
        "outputId": "082b1651-8a3a-4940-c628-8ee165a81e1b"
      },
      "outputs": [
        {
          "data": {
            "text/plain": [
              "Pacific Gas & Electric Co.       2280\n",
              "Tennessee Valley Authority       1791\n",
              "Ameren Illinois Company          1786\n",
              "Niagara Mohawk Power Corp.       1746\n",
              "Southern California Edison Co    1602\n",
              "                                 ... \n",
              "Juneau Utility Comm                 1\n",
              "City of Benton - (KY)               1\n",
              "City of Bluffton - (IN)             1\n",
              "Village of Mt. Horeb - (WI)         1\n",
              "City of Harriman - (TN)             1\n",
              "Name: utility_name, Length: 1196, dtype: int64"
            ]
          },
          "execution_count": 33,
          "metadata": {},
          "output_type": "execute_result"
        }
      ],
      "source": [
        "data['utility_name'].value_counts()"
      ]
    },
    {
      "cell_type": "code",
      "execution_count": null,
      "id": "737752e7",
      "metadata": {
        "id": "737752e7"
      },
      "outputs": [],
      "source": [
        "top_10_utility = data['utility_name'].value_counts()[:10]"
      ]
    },
    {
      "cell_type": "code",
      "execution_count": null,
      "id": "55870d27",
      "metadata": {
        "id": "55870d27",
        "outputId": "9fefe419-a29c-4e82-ed0e-9474b68e8019"
      },
      "outputs": [
        {
          "data": {
            "image/png": "[encoded data removed]",
            "text/plain": [
              "<Figure size 432x288 with 1 Axes>"
            ]
          },
          "metadata": {
            "needs_background": "light"
          },
          "output_type": "display_data"
        }
      ],
      "source": [
        "top_10_utility[:10].plot(kind='barh')\n",
        "plt.title('Top 10 Utility Companies')\n",
        "plt.show()"
      ]
    },
    {
      "cell_type": "code",
      "execution_count": null,
      "id": "271ad455",
      "metadata": {
        "id": "271ad455",
        "outputId": "444d4536-fedb-4c1e-a2e4-b97e5d83bb78"
      },
      "outputs": [
        {
          "data": {
            "text/plain": [
              "Pacific Gas & Electric Co.        2280\n",
              "Tennessee Valley Authority        1791\n",
              "Ameren Illinois Company           1786\n",
              "Niagara Mohawk Power Corp.        1746\n",
              "Southern California Edison Co     1602\n",
              "Virginia Electric & Power Co      1594\n",
              "Pennsylvania Electric Co          1372\n",
              "New York State Elec & Gas Corp    1368\n",
              "Consumers Energy Co               1286\n",
              "PPL Electric Utilities Corp       1222\n",
              "Name: utility_name, dtype: int64"
            ]
          },
          "execution_count": 35,
          "metadata": {},
          "output_type": "execute_result"
        }
      ],
      "source": [
        "top_10_utility"
      ]
    },
    {
      "cell_type": "code",
      "execution_count": null,
      "id": "803f269d",
      "metadata": {
        "id": "803f269d"
      },
      "outputs": [],
      "source": [
        "# Count of utility by state."
      ]
    },
    {
      "cell_type": "code",
      "execution_count": null,
      "id": "37d532a3",
      "metadata": {
        "id": "37d532a3",
        "outputId": "5e818745-2173-4b0d-d637-d0894b9a9db0"
      },
      "outputs": [
        {
          "data": {
            "text/plain": [
              "PA    5936\n",
              "NY    5286\n",
              "CA    5227\n",
              "IL    3810\n",
              "OH    3458\n",
              "TX    3108\n",
              "MI    2848\n",
              "VA    2743\n",
              "TN    2269\n",
              "NC    2200\n",
              "FL    2121\n",
              "MO    2101\n",
              "KY    1966\n",
              "GA    1893\n",
              "IA    1811\n",
              "NJ    1744\n",
              "AL    1683\n",
              "MN    1674\n",
              "IN    1592\n",
              "MA    1549\n",
              "OK    1479\n",
              "WI    1438\n",
              "WA    1427\n",
              "AR    1414\n",
              "MD    1378\n",
              "LA    1272\n",
              "MS    1264\n",
              "ME    1180\n",
              "SC    1126\n",
              "CO    1102\n",
              "OR    1090\n",
              "KS     981\n",
              "CT     958\n",
              "WV     929\n",
              "ND     863\n",
              "NH     854\n",
              "AZ     759\n",
              "MT     713\n",
              "NE     644\n",
              "NM     578\n",
              "DC     564\n",
              "NV     499\n",
              "UT     466\n",
              "SD     449\n",
              "ID     423\n",
              "VT     365\n",
              "WY     255\n",
              "DE     229\n",
              "AK     197\n",
              "RI     182\n",
              "HI     137\n",
              "Name: state, dtype: int64"
            ]
          },
          "execution_count": 38,
          "metadata": {},
          "output_type": "execute_result"
        }
      ],
      "source": [
        "data['state'].value_counts()"
      ]
    },
    {
      "cell_type": "code",
      "execution_count": null,
      "id": "4e3edc7a",
      "metadata": {
        "id": "4e3edc7a"
      },
      "outputs": [],
      "source": [
        "top_10_state_utility = data.value_counts('state')[:10]"
      ]
    },
    {
      "cell_type": "code",
      "execution_count": null,
      "id": "a7d81a7d",
      "metadata": {
        "id": "a7d81a7d",
        "outputId": "10615198-7472-4b11-a7fd-4eff81767dc3"
      },
      "outputs": [
        {
          "data": {
            "image/png": "[encoded data removed]",
            "text/plain": [
              "<Figure size 432x288 with 1 Axes>"
            ]
          },
          "metadata": {
            "needs_background": "light"
          },
          "output_type": "display_data"
        }
      ],
      "source": [
        "top_10_state_utility[:10].plot(kind='barh')\n",
        "plt.title('Number of Utility Companies By State')\n",
        "plt.show()"
      ]
    },
    {
      "cell_type": "code",
      "execution_count": null,
      "id": "634570aa",
      "metadata": {
        "id": "634570aa",
        "outputId": "24cbdfee-836a-42ba-a81f-c8bc48235894"
      },
      "outputs": [
        {
          "data": {
            "text/plain": [
              "state\n",
              "PA    5936\n",
              "NY    5286\n",
              "CA    5227\n",
              "IL    3810\n",
              "OH    3458\n",
              "TX    3108\n",
              "MI    2848\n",
              "VA    2743\n",
              "TN    2269\n",
              "NC    2200\n",
              "dtype: int64"
            ]
          },
          "execution_count": 40,
          "metadata": {},
          "output_type": "execute_result"
        }
      ],
      "source": [
        "top_10_state_utility"
      ]
    },
    {
      "cell_type": "code",
      "execution_count": null,
      "id": "8c78183f",
      "metadata": {
        "id": "8c78183f"
      },
      "outputs": [],
      "source": [
        "# Count of utility service type."
      ]
    },
    {
      "cell_type": "code",
      "execution_count": null,
      "id": "76b0596c",
      "metadata": {
        "id": "76b0596c",
        "outputId": "98e211aa-2ec6-4cce-ce95-4ca07c9ceac9"
      },
      "outputs": [
        {
          "data": {
            "text/plain": [
              "Bundled     62461\n",
              "Delivery    17736\n",
              "Energy         37\n",
              "Name: service_type, dtype: int64"
            ]
          },
          "execution_count": 42,
          "metadata": {},
          "output_type": "execute_result"
        }
      ],
      "source": [
        "data['service_type'].value_counts()"
      ]
    },
    {
      "cell_type": "code",
      "execution_count": null,
      "id": "ec9a3f82",
      "metadata": {
        "id": "ec9a3f82",
        "outputId": "0f943067-4df4-4ba1-84aa-aa3713708b87"
      },
      "outputs": [
        {
          "data": {
            "image/png": "[encoded data removed]",
            "text/plain": [
              "<Figure size 432x288 with 1 Axes>"
            ]
          },
          "metadata": {},
          "output_type": "display_data"
        }
      ],
      "source": [
        "data['service_type'].value_counts(normalize=True).plot(kind='pie',autopct='%.2f')\n",
        "plt.title('Service Type Percentage')\n",
        "plt.show()"
      ]
    },
    {
      "cell_type": "code",
      "execution_count": null,
      "id": "fabdea4f",
      "metadata": {
        "id": "fabdea4f",
        "outputId": "721385f4-6b47-4c4b-9423-83e5bfbae355"
      },
      "outputs": [
        {
          "data": {
            "text/plain": [
              "Bundled     0.778485\n",
              "Delivery    0.221053\n",
              "Energy      0.000461\n",
              "Name: service_type, dtype: float64"
            ]
          },
          "execution_count": 44,
          "metadata": {},
          "output_type": "execute_result"
        }
      ],
      "source": [
        "data['service_type'].value_counts(normalize=True)"
      ]
    },
    {
      "cell_type": "code",
      "execution_count": null,
      "id": "8afee8ce",
      "metadata": {
        "id": "8afee8ce"
      },
      "outputs": [],
      "source": [
        "# Count of utility ownership."
      ]
    },
    {
      "cell_type": "code",
      "execution_count": null,
      "id": "5785b247",
      "metadata": {
        "id": "5785b247",
        "outputId": "2b76f440-5179-4705-9983-16105e770454"
      },
      "outputs": [
        {
          "data": {
            "text/plain": [
              "Investor Owned           52177\n",
              "Cooperative              20406\n",
              "Municipal                 3494\n",
              "Federal                   1836\n",
              "Political Subdivision     1537\n",
              "State                      528\n",
              "Retail Power Marketer      256\n",
              "Name: ownership, dtype: int64"
            ]
          },
          "execution_count": 46,
          "metadata": {},
          "output_type": "execute_result"
        }
      ],
      "source": [
        "data['ownership'].value_counts()"
      ]
    },
    {
      "cell_type": "code",
      "execution_count": null,
      "id": "1a66e491",
      "metadata": {
        "id": "1a66e491",
        "outputId": "43adbdbb-7257-4cef-c234-16b998af8e81"
      },
      "outputs": [
        {
          "data": {
            "image/png": "[encoded data removed]",
            "text/plain": [
              "<Figure size 1440x720 with 1 Axes>"
            ]
          },
          "metadata": {},
          "output_type": "display_data"
        }
      ],
      "source": [
        "plt.figure(figsize=(20,10))\n",
        "data.value_counts('ownership',normalize=True).plot(kind='pie',autopct='%.2f')\n",
        "plt.title('Percentage of Utility Ownership in the U.S.A')\n",
        "plt.show()"
      ]
    },
    {
      "cell_type": "code",
      "execution_count": null,
      "id": "5c533f4e",
      "metadata": {
        "id": "5c533f4e",
        "outputId": "6e298bea-767a-47ab-fb14-a2e0a8f90e62"
      },
      "outputs": [
        {
          "data": {
            "text/plain": [
              "ownership\n",
              "Investor Owned           0.650310\n",
              "Cooperative              0.254331\n",
              "Municipal                0.043548\n",
              "Federal                  0.022883\n",
              "Political Subdivision    0.019156\n",
              "State                    0.006581\n",
              "Retail Power Marketer    0.003191\n",
              "dtype: float64"
            ]
          },
          "execution_count": 47,
          "metadata": {},
          "output_type": "execute_result"
        }
      ],
      "source": [
        "data.value_counts('ownership',normalize=True)"
      ]
    },
    {
      "cell_type": "code",
      "execution_count": null,
      "id": "6308da4e",
      "metadata": {
        "id": "6308da4e"
      },
      "outputs": [],
      "source": [
        "# Descriptive statistics for utility rates."
      ]
    },
    {
      "cell_type": "code",
      "execution_count": null,
      "id": "4730c6ee",
      "metadata": {
        "id": "4730c6ee",
        "outputId": "dbdf9283-a3e9-48ca-d6c2-6b5fed885927"
      },
      "outputs": [
        {
          "data": {
            "text/plain": [
              "count    80234.000000\n",
              "mean         0.102487\n",
              "std          0.046413\n",
              "min          0.000000\n",
              "25%          0.083356\n",
              "50%          0.104212\n",
              "75%          0.121143\n",
              "max          0.381222\n",
              "Name: comm_rate, dtype: float64"
            ]
          },
          "execution_count": 57,
          "metadata": {},
          "output_type": "execute_result"
        }
      ],
      "source": [
        "data['comm_rate'].sort_values().describe()"
      ]
    },
    {
      "cell_type": "code",
      "execution_count": null,
      "id": "7f5d067c",
      "metadata": {
        "id": "7f5d067c"
      },
      "outputs": [],
      "source": [
        "# Find max and min commercial utility rates."
      ]
    },
    {
      "cell_type": "code",
      "execution_count": null,
      "id": "680df3dc",
      "metadata": {
        "id": "680df3dc",
        "outputId": "2758ae4a-afbb-498d-cb1f-13ce5e32d910"
      },
      "outputs": [
        {
          "data": {
            "text/html": [
              "<div>\n",
              "<style scoped>\n",
              "    .dataframe tbody tr th:only-of-type {\n",
              "        vertical-align: middle;\n",
              "    }\n",
              "\n",
              "    .dataframe tbody tr th {\n",
              "        vertical-align: top;\n",
              "    }\n",
              "\n",
              "    .dataframe thead th {\n",
              "        text-align: right;\n",
              "    }\n",
              "</style>\n",
              "<table border=\"1\" class=\"dataframe\">\n",
              "  <thead>\n",
              "    <tr style=\"text-align: right;\">\n",
              "      <th></th>\n",
              "      <th>comm_rate</th>\n",
              "      <th>utility_name</th>\n",
              "      <th>state</th>\n",
              "    </tr>\n",
              "  </thead>\n",
              "  <tbody>\n",
              "    <tr>\n",
              "      <th>53686</th>\n",
              "      <td>0.381222</td>\n",
              "      <td>Block Island Utility District</td>\n",
              "      <td>RI</td>\n",
              "    </tr>\n",
              "  </tbody>\n",
              "</table>\n",
              "</div>"
            ],
            "text/plain": [
              "       comm_rate                   utility_name state\n",
              "53686   0.381222  Block Island Utility District    RI"
            ]
          },
          "execution_count": 58,
          "metadata": {},
          "output_type": "execute_result"
        }
      ],
      "source": [
        "data.nlargest(1,'comm_rate')[['comm_rate','utility_name','state']]"
      ]
    },
    {
      "cell_type": "code",
      "execution_count": null,
      "id": "d93bc69f",
      "metadata": {
        "id": "d93bc69f",
        "outputId": "ba4a6b88-d0ea-454a-a0c8-c862961724d5"
      },
      "outputs": [
        {
          "data": {
            "text/html": [
              "<div>\n",
              "<style scoped>\n",
              "    .dataframe tbody tr th:only-of-type {\n",
              "        vertical-align: middle;\n",
              "    }\n",
              "\n",
              "    .dataframe tbody tr th {\n",
              "        vertical-align: top;\n",
              "    }\n",
              "\n",
              "    .dataframe thead th {\n",
              "        text-align: right;\n",
              "    }\n",
              "</style>\n",
              "<table border=\"1\" class=\"dataframe\">\n",
              "  <thead>\n",
              "    <tr style=\"text-align: right;\">\n",
              "      <th></th>\n",
              "      <th>comm_rate</th>\n",
              "      <th>utility_name</th>\n",
              "      <th>state</th>\n",
              "    </tr>\n",
              "  </thead>\n",
              "  <tbody>\n",
              "    <tr>\n",
              "      <th>55194</th>\n",
              "      <td>0.0</td>\n",
              "      <td>PUD No 1 of Chelan County</td>\n",
              "      <td>WA</td>\n",
              "    </tr>\n",
              "  </tbody>\n",
              "</table>\n",
              "</div>"
            ],
            "text/plain": [
              "       comm_rate               utility_name state\n",
              "55194        0.0  PUD No 1 of Chelan County    WA"
            ]
          },
          "execution_count": 59,
          "metadata": {},
          "output_type": "execute_result"
        }
      ],
      "source": [
        "data.nsmallest(1,'comm_rate')[['comm_rate','utility_name','state']]"
      ]
    },
    {
      "cell_type": "code",
      "execution_count": null,
      "id": "1e732473",
      "metadata": {
        "id": "1e732473",
        "outputId": "794b49f0-33bf-4ce5-bcf9-3a1522420d0f"
      },
      "outputs": [
        {
          "data": {
            "text/plain": [
              "count    80234.000000\n",
              "mean         0.121709\n",
              "std          0.052981\n",
              "min          0.000000\n",
              "25%          0.103853\n",
              "50%          0.121303\n",
              "75%          0.140362\n",
              "max          0.472790\n",
              "Name: res_rate, dtype: float64"
            ]
          },
          "execution_count": 60,
          "metadata": {},
          "output_type": "execute_result"
        }
      ],
      "source": [
        "data['res_rate'].sort_values().describe()"
      ]
    },
    {
      "cell_type": "code",
      "execution_count": null,
      "id": "46acabdb",
      "metadata": {
        "id": "46acabdb"
      },
      "outputs": [],
      "source": [
        "# Find max and min residential utility rates."
      ]
    },
    {
      "cell_type": "code",
      "execution_count": null,
      "id": "a0867ddd",
      "metadata": {
        "id": "a0867ddd",
        "outputId": "d009c992-efb9-4ef0-c737-384522bd3ef0"
      },
      "outputs": [
        {
          "data": {
            "text/html": [
              "<div>\n",
              "<style scoped>\n",
              "    .dataframe tbody tr th:only-of-type {\n",
              "        vertical-align: middle;\n",
              "    }\n",
              "\n",
              "    .dataframe tbody tr th {\n",
              "        vertical-align: top;\n",
              "    }\n",
              "\n",
              "    .dataframe thead th {\n",
              "        text-align: right;\n",
              "    }\n",
              "</style>\n",
              "<table border=\"1\" class=\"dataframe\">\n",
              "  <thead>\n",
              "    <tr style=\"text-align: right;\">\n",
              "      <th></th>\n",
              "      <th>res_rate</th>\n",
              "      <th>utility_name</th>\n",
              "      <th>state</th>\n",
              "    </tr>\n",
              "  </thead>\n",
              "  <tbody>\n",
              "    <tr>\n",
              "      <th>52361</th>\n",
              "      <td>0.47279</td>\n",
              "      <td>Alaska Village Elec Coop, Inc</td>\n",
              "      <td>AK</td>\n",
              "    </tr>\n",
              "  </tbody>\n",
              "</table>\n",
              "</div>"
            ],
            "text/plain": [
              "       res_rate                   utility_name state\n",
              "52361   0.47279  Alaska Village Elec Coop, Inc    AK"
            ]
          },
          "execution_count": 61,
          "metadata": {},
          "output_type": "execute_result"
        }
      ],
      "source": [
        "data.nlargest(1,'res_rate')[['res_rate','utility_name','state']]"
      ]
    },
    {
      "cell_type": "code",
      "execution_count": null,
      "id": "3b283be3",
      "metadata": {
        "id": "3b283be3",
        "outputId": "dbb820ea-988c-40b5-9004-c1b0ac675df7"
      },
      "outputs": [
        {
          "data": {
            "text/html": [
              "<div>\n",
              "<style scoped>\n",
              "    .dataframe tbody tr th:only-of-type {\n",
              "        vertical-align: middle;\n",
              "    }\n",
              "\n",
              "    .dataframe tbody tr th {\n",
              "        vertical-align: top;\n",
              "    }\n",
              "\n",
              "    .dataframe thead th {\n",
              "        text-align: right;\n",
              "    }\n",
              "</style>\n",
              "<table border=\"1\" class=\"dataframe\">\n",
              "  <thead>\n",
              "    <tr style=\"text-align: right;\">\n",
              "      <th></th>\n",
              "      <th>res_rate</th>\n",
              "      <th>utility_name</th>\n",
              "      <th>state</th>\n",
              "    </tr>\n",
              "  </thead>\n",
              "  <tbody>\n",
              "    <tr>\n",
              "      <th>1422</th>\n",
              "      <td>0.0</td>\n",
              "      <td>Appalachian Power Co</td>\n",
              "      <td>VA</td>\n",
              "    </tr>\n",
              "  </tbody>\n",
              "</table>\n",
              "</div>"
            ],
            "text/plain": [
              "      res_rate          utility_name state\n",
              "1422       0.0  Appalachian Power Co    VA"
            ]
          },
          "execution_count": 62,
          "metadata": {},
          "output_type": "execute_result"
        }
      ],
      "source": [
        "data.nsmallest(1,'res_rate')[['res_rate','utility_name','state']]"
      ]
    },
    {
      "cell_type": "code",
      "execution_count": null,
      "id": "5a47f5cc",
      "metadata": {
        "id": "5a47f5cc",
        "outputId": "c1284dd8-b475-4fa9-86bd-040f79306ab1"
      },
      "outputs": [
        {
          "data": {
            "text/plain": [
              "count    80234.000000\n",
              "mean         0.070987\n",
              "std          0.044896\n",
              "min          0.000000\n",
              "25%          0.052434\n",
              "50%          0.069488\n",
              "75%          0.085861\n",
              "max          0.359823\n",
              "Name: ind_rate, dtype: float64"
            ]
          },
          "execution_count": 63,
          "metadata": {},
          "output_type": "execute_result"
        }
      ],
      "source": [
        "data['ind_rate'].sort_values().describe()"
      ]
    },
    {
      "cell_type": "code",
      "execution_count": null,
      "id": "537ac66e",
      "metadata": {
        "id": "537ac66e"
      },
      "outputs": [],
      "source": [
        "# Find max and min individual utility rates."
      ]
    },
    {
      "cell_type": "code",
      "execution_count": null,
      "id": "d4e183c5",
      "metadata": {
        "id": "d4e183c5",
        "outputId": "8092e0a4-920e-4fbc-e087-799e1d75a7f1"
      },
      "outputs": [
        {
          "data": {
            "text/html": [
              "<div>\n",
              "<style scoped>\n",
              "    .dataframe tbody tr th:only-of-type {\n",
              "        vertical-align: middle;\n",
              "    }\n",
              "\n",
              "    .dataframe tbody tr th {\n",
              "        vertical-align: top;\n",
              "    }\n",
              "\n",
              "    .dataframe thead th {\n",
              "        text-align: right;\n",
              "    }\n",
              "</style>\n",
              "<table border=\"1\" class=\"dataframe\">\n",
              "  <thead>\n",
              "    <tr style=\"text-align: right;\">\n",
              "      <th></th>\n",
              "      <th>ind_rate</th>\n",
              "      <th>utility_name</th>\n",
              "      <th>state</th>\n",
              "    </tr>\n",
              "  </thead>\n",
              "  <tbody>\n",
              "    <tr>\n",
              "      <th>72572</th>\n",
              "      <td>0.359823</td>\n",
              "      <td>Southwestern Electric Coop Inc - (IL)</td>\n",
              "      <td>IL</td>\n",
              "    </tr>\n",
              "  </tbody>\n",
              "</table>\n",
              "</div>"
            ],
            "text/plain": [
              "       ind_rate                           utility_name state\n",
              "72572  0.359823  Southwestern Electric Coop Inc - (IL)    IL"
            ]
          },
          "execution_count": 64,
          "metadata": {},
          "output_type": "execute_result"
        }
      ],
      "source": [
        "data.nlargest(1,'ind_rate')[['ind_rate','utility_name','state']]"
      ]
    },
    {
      "cell_type": "code",
      "execution_count": null,
      "id": "f0bb77d7",
      "metadata": {
        "id": "f0bb77d7",
        "outputId": "1a75db14-f53d-4776-81e9-b3b639e0ca23"
      },
      "outputs": [
        {
          "data": {
            "text/html": [
              "<div>\n",
              "<style scoped>\n",
              "    .dataframe tbody tr th:only-of-type {\n",
              "        vertical-align: middle;\n",
              "    }\n",
              "\n",
              "    .dataframe tbody tr th {\n",
              "        vertical-align: top;\n",
              "    }\n",
              "\n",
              "    .dataframe thead th {\n",
              "        text-align: right;\n",
              "    }\n",
              "</style>\n",
              "<table border=\"1\" class=\"dataframe\">\n",
              "  <thead>\n",
              "    <tr style=\"text-align: right;\">\n",
              "      <th></th>\n",
              "      <th>ind_rate</th>\n",
              "      <th>utility_name</th>\n",
              "      <th>state</th>\n",
              "    </tr>\n",
              "  </thead>\n",
              "  <tbody>\n",
              "    <tr>\n",
              "      <th>0</th>\n",
              "      <td>0.0</td>\n",
              "      <td>Ajo Improvement Co</td>\n",
              "      <td>AZ</td>\n",
              "    </tr>\n",
              "  </tbody>\n",
              "</table>\n",
              "</div>"
            ],
            "text/plain": [
              "   ind_rate        utility_name state\n",
              "0       0.0  Ajo Improvement Co    AZ"
            ]
          },
          "execution_count": 65,
          "metadata": {},
          "output_type": "execute_result"
        }
      ],
      "source": [
        "data.nsmallest(1,'ind_rate')[['ind_rate','utility_name','state']]"
      ]
    },
    {
      "cell_type": "markdown",
      "id": "da6fb809",
      "metadata": {
        "id": "da6fb809"
      },
      "source": [
        "### Multi-Variate Analysis"
      ]
    },
    {
      "cell_type": "code",
      "execution_count": null,
      "id": "4878cc30",
      "metadata": {
        "id": "4878cc30"
      },
      "outputs": [],
      "source": [
        "# Visualize correlation between utlity rates."
      ]
    },
    {
      "cell_type": "code",
      "execution_count": null,
      "id": "845c5b91",
      "metadata": {
        "id": "845c5b91",
        "outputId": "04fd3b4e-b5b6-4647-d80c-d59025380cc6"
      },
      "outputs": [
        {
          "data": {
            "image/png": "[encoded data removed]",
            "text/plain": [
              "<Figure size 432x288 with 1 Axes>"
            ]
          },
          "metadata": {
            "needs_background": "light"
          },
          "output_type": "display_data"
        }
      ],
      "source": [
        "sns.scatterplot(x='comm_rate',y='res_rate',data=data)\n",
        "plt.title('Correlation Between Utility Rates')\n",
        "plt.show()"
      ]
    },
    {
      "cell_type": "code",
      "execution_count": null,
      "id": "1325bffb",
      "metadata": {
        "id": "1325bffb",
        "outputId": "e5b9100f-666e-4193-8e96-c3d57ceb7f7d"
      },
      "outputs": [
        {
          "data": {
            "image/png": "[encoded data removed]",
            "text/plain": [
              "<Figure size 432x288 with 1 Axes>"
            ]
          },
          "metadata": {
            "needs_background": "light"
          },
          "output_type": "display_data"
        }
      ],
      "source": [
        "sns.scatterplot(x='comm_rate',y='ind_rate',data=data)\n",
        "plt.title('Correlation Between Utility Rates')\n",
        "plt.show()"
      ]
    },
    {
      "cell_type": "code",
      "execution_count": null,
      "id": "a3353a15",
      "metadata": {
        "id": "a3353a15",
        "outputId": "ef83a2be-9d27-473e-95b2-74369124eaa2"
      },
      "outputs": [
        {
          "data": {
            "image/png": "[encoded data removed]",
            "text/plain": [
              "<Figure size 432x288 with 1 Axes>"
            ]
          },
          "metadata": {
            "needs_background": "light"
          },
          "output_type": "display_data"
        }
      ],
      "source": [
        "sns.scatterplot(x='res_rate',y='ind_rate',data=data)\n",
        "plt.title('Correlation Between Utility Rates')\n",
        "plt.show()"
      ]
    },
    {
      "cell_type": "code",
      "execution_count": null,
      "id": "e1f60507",
      "metadata": {
        "id": "e1f60507"
      },
      "outputs": [],
      "source": [
        "# Group state by utility service type."
      ]
    },
    {
      "cell_type": "code",
      "execution_count": null,
      "id": "3edaaa98",
      "metadata": {
        "id": "3edaaa98",
        "outputId": "7157b0ce-55fd-40bd-9cc6-ab44ced1055e"
      },
      "outputs": [
        {
          "data": {
            "text/plain": [
              "service_type  state\n",
              "Bundled       PA       3280\n",
              "              TX       3108\n",
              "              CA       3067\n",
              "              NY       2651\n",
              "              IL       2270\n",
              "                       ... \n",
              "Delivery      NV        215\n",
              "              RI         89\n",
              "              DE         86\n",
              "Energy        WA         28\n",
              "              CA          9\n",
              "Name: state, Length: 73, dtype: int64"
            ]
          },
          "execution_count": 70,
          "metadata": {},
          "output_type": "execute_result"
        }
      ],
      "source": [
        "data.groupby('service_type')['state'].value_counts()"
      ]
    },
    {
      "cell_type": "code",
      "execution_count": null,
      "id": "11c46b5a",
      "metadata": {
        "id": "11c46b5a"
      },
      "outputs": [],
      "source": [
        "# Groupby state by utility ownership."
      ]
    },
    {
      "cell_type": "code",
      "execution_count": null,
      "id": "3789c0bb",
      "metadata": {
        "id": "3789c0bb",
        "outputId": "441af730-6e65-4287-cd92-62f94b767e20"
      },
      "outputs": [
        {
          "data": {
            "text/plain": [
              "ownership    state\n",
              "Cooperative  TX       1838\n",
              "             MO       1082\n",
              "             GA        987\n",
              "             MN        889\n",
              "             KY        883\n",
              "                      ... \n",
              "State        NM         38\n",
              "             SC         12\n",
              "             UT          8\n",
              "             NC          4\n",
              "             VA          1\n",
              "Name: state, Length: 164, dtype: int64"
            ]
          },
          "execution_count": 115,
          "metadata": {},
          "output_type": "execute_result"
        }
      ],
      "source": [
        "data.groupby('ownership')['state'].value_counts()"
      ]
    },
    {
      "cell_type": "code",
      "execution_count": null,
      "id": "26e66b94",
      "metadata": {
        "id": "26e66b94"
      },
      "outputs": [],
      "source": [
        "# Find top 10 utility companies by certain states."
      ]
    },
    {
      "cell_type": "code",
      "execution_count": null,
      "id": "50fd2b50",
      "metadata": {
        "id": "50fd2b50"
      },
      "outputs": [],
      "source": [
        "# Florida"
      ]
    },
    {
      "cell_type": "code",
      "execution_count": null,
      "id": "8bcbd0cf",
      "metadata": {
        "id": "8bcbd0cf"
      },
      "outputs": [],
      "source": [
        "top_10_utilities_in_fl = data[data['state'] == 'FL'][['state','utility_name','ownership']].value_counts()[:10]"
      ]
    },
    {
      "cell_type": "code",
      "execution_count": null,
      "id": "518f7c0b",
      "metadata": {
        "id": "518f7c0b",
        "outputId": "c73f6c4b-33b8-4568-ff80-d949dccb2f5c"
      },
      "outputs": [
        {
          "data": {
            "text/plain": [
              "state  utility_name                    ownership     \n",
              "FL     Florida Power & Light Co        Investor Owned    659\n",
              "       Duke Energy Florida, LLC        Investor Owned    415\n",
              "       Tampa Electric Co               Investor Owned    136\n",
              "       Gulf Power Co                   Investor Owned    103\n",
              "       Sumter Electric Coop, Inc       Cooperative        91\n",
              "       Lee County Electric Coop, Inc   Cooperative        79\n",
              "       Clay Electric Cooperative, Inc  Cooperative        74\n",
              "       JEA                             Municipal          73\n",
              "       Withlacoochee River Elec Coop   Cooperative        52\n",
              "       Talquin Electric Coop, Inc      Cooperative        44\n",
              "dtype: int64"
            ]
          },
          "execution_count": 72,
          "metadata": {},
          "output_type": "execute_result"
        }
      ],
      "source": [
        "top_10_utilities_in_fl"
      ]
    },
    {
      "cell_type": "code",
      "execution_count": null,
      "id": "9cbf47eb",
      "metadata": {
        "id": "9cbf47eb",
        "outputId": "a7a401a2-e62a-4e25-807d-ad39dc931e45"
      },
      "outputs": [
        {
          "data": {
            "image/png": "[encoded data removed]",
            "text/plain": [
              "<Figure size 432x288 with 1 Axes>"
            ]
          },
          "metadata": {
            "needs_background": "light"
          },
          "output_type": "display_data"
        }
      ],
      "source": [
        "data[data['state'] == 'FL'][['state','utility_name','ownership']].value_counts()[:10].plot(kind='barh')\n",
        "plt.title('Top 10 Utility Companies in Florida')\n",
        "plt.ylabel('State Utility Ownership')\n",
        "plt.show()"
      ]
    },
    {
      "cell_type": "code",
      "execution_count": null,
      "id": "71e36605",
      "metadata": {
        "id": "71e36605",
        "outputId": "c0043dfc-b390-423b-c961-e11dbb890f17"
      },
      "outputs": [
        {
          "data": {
            "text/plain": [
              "state  service_type  ownership     \n",
              "FL     Bundled       Investor Owned    1337\n",
              "                     Cooperative        577\n",
              "                     Municipal          207\n",
              "dtype: int64"
            ]
          },
          "execution_count": 75,
          "metadata": {},
          "output_type": "execute_result"
        }
      ],
      "source": [
        "data[data['state'] == 'FL'][['state','service_type','ownership']].value_counts()"
      ]
    },
    {
      "cell_type": "code",
      "execution_count": null,
      "id": "7e814c65",
      "metadata": {
        "id": "7e814c65",
        "outputId": "53f26f59-7731-4c13-ddd9-dbe4485950a6"
      },
      "outputs": [
        {
          "data": {
            "image/png": "[encoded data removed]",
            "text/plain": [
              "<Figure size 432x288 with 1 Axes>"
            ]
          },
          "metadata": {},
          "output_type": "display_data"
        }
      ],
      "source": [
        "data[data['state'] == 'FL'][['state','service_type','ownership']].value_counts().plot(kind='pie',autopct='%.2f')\n",
        "plt.title('Utility Ownership & Service Type in FL')\n",
        "plt.show()"
      ]
    },
    {
      "cell_type": "code",
      "execution_count": null,
      "id": "f10cff4a",
      "metadata": {
        "id": "f10cff4a"
      },
      "outputs": [],
      "source": [
        "# Texas"
      ]
    },
    {
      "cell_type": "code",
      "execution_count": null,
      "id": "4553ed5c",
      "metadata": {
        "id": "4553ed5c",
        "outputId": "f7bce8a9-9839-4e94-d246-9bb616984826"
      },
      "outputs": [
        {
          "data": {
            "image/png": "[encoded data removed]",
            "text/plain": [
              "<Figure size 432x288 with 1 Axes>"
            ]
          },
          "metadata": {
            "needs_background": "light"
          },
          "output_type": "display_data"
        }
      ],
      "source": [
        "data[data['state'] == 'TX'][['state','utility_name']].value_counts()[:10].plot(kind='barh')\n",
        "plt.title('Top 10 Utility Companies TX')\n",
        "plt.show()"
      ]
    },
    {
      "cell_type": "code",
      "execution_count": null,
      "id": "8e4502d5",
      "metadata": {
        "id": "8e4502d5"
      },
      "outputs": [],
      "source": [
        "top_10_utilities_in_tx = data[data['state'] == 'TX'][['state','utility_name','ownership']].value_counts()[:10]"
      ]
    },
    {
      "cell_type": "code",
      "execution_count": null,
      "id": "0ff096fb",
      "metadata": {
        "id": "0ff096fb",
        "outputId": "d52f5915-33e7-452e-9e1a-38612a027cc3"
      },
      "outputs": [
        {
          "data": {
            "text/plain": [
              "state  utility_name                    ownership            \n",
              "TX     Entergy Texas Inc.              Investor Owned           242\n",
              "       Southwestern Public Service Co  Investor Owned           159\n",
              "       TXU Energy Retail Co, LLC       Retail Power Marketer    154\n",
              "       El Paso Electric Co             Investor Owned           148\n",
              "       Southwestern Electric Power Co  Investor Owned           147\n",
              "       Heart of Texas Electric Coop    Cooperative              132\n",
              "       City of San Antonio - (TX)      Municipal                117\n",
              "       South Plains Electric Coop Inc  Cooperative              104\n",
              "       Reliant Energy Retail Services  Retail Power Marketer    102\n",
              "       Bartlett Electric Coop, Inc     Cooperative               97\n",
              "dtype: int64"
            ]
          },
          "execution_count": 84,
          "metadata": {},
          "output_type": "execute_result"
        }
      ],
      "source": [
        "top_10_utilities_in_tx"
      ]
    },
    {
      "cell_type": "code",
      "execution_count": null,
      "id": "0f60e92c",
      "metadata": {
        "id": "0f60e92c",
        "outputId": "155a0225-6ce4-4477-fb03-e629b1c60322"
      },
      "outputs": [
        {
          "data": {
            "text/plain": [
              "state  service_type  ownership            \n",
              "TX     Bundled       Cooperative              1838\n",
              "                     Investor Owned            696\n",
              "                     Municipal                 318\n",
              "                     Retail Power Marketer     256\n",
              "dtype: int64"
            ]
          },
          "execution_count": 77,
          "metadata": {},
          "output_type": "execute_result"
        }
      ],
      "source": [
        "data[data['state'] == 'TX'][['state','service_type','ownership']].value_counts()"
      ]
    },
    {
      "cell_type": "code",
      "execution_count": null,
      "id": "ab4e961b",
      "metadata": {
        "id": "ab4e961b",
        "outputId": "6e55e342-1164-4f9a-f386-1ad4f49fdb9d"
      },
      "outputs": [
        {
          "data": {
            "image/png": "[encoded data removed]",
            "text/plain": [
              "<Figure size 432x288 with 1 Axes>"
            ]
          },
          "metadata": {},
          "output_type": "display_data"
        }
      ],
      "source": [
        "data[data['state'] == 'TX'][['state','service_type','ownership']].value_counts().plot(kind='pie',autopct='%.2f')\n",
        "plt.title('Utility Ownership and Service Type TX')\n",
        "plt.show()"
      ]
    },
    {
      "cell_type": "code",
      "execution_count": null,
      "id": "cbbe13b0",
      "metadata": {
        "id": "cbbe13b0"
      },
      "outputs": [],
      "source": [
        "# California."
      ]
    },
    {
      "cell_type": "code",
      "execution_count": null,
      "id": "51f53980",
      "metadata": {
        "id": "51f53980",
        "outputId": "7d601735-5d84-4a8c-de6a-4c979528099c"
      },
      "outputs": [
        {
          "data": {
            "text/plain": [
              "state  service_type  ownership            \n",
              "CA     Bundled       Investor Owned           2234\n",
              "       Delivery      Investor Owned           2151\n",
              "       Bundled       Municipal                 550\n",
              "                     Political Subdivision     255\n",
              "                     Cooperative                28\n",
              "       Energy        Municipal                   9\n",
              "dtype: int64"
            ]
          },
          "execution_count": 86,
          "metadata": {},
          "output_type": "execute_result"
        }
      ],
      "source": [
        "data[data['state'] == 'CA'][['state','service_type','ownership']].value_counts()"
      ]
    },
    {
      "cell_type": "code",
      "execution_count": null,
      "id": "0008f3a8",
      "metadata": {
        "id": "0008f3a8"
      },
      "outputs": [],
      "source": [
        "top_10_utility_ca = data[data['state'] == 'CA']['utility_name'].value_counts()[:10]"
      ]
    },
    {
      "cell_type": "code",
      "execution_count": null,
      "id": "8e4a4a37",
      "metadata": {
        "id": "8e4a4a37",
        "outputId": "4ac652ce-e93c-4de0-a992-b3665baaa60e"
      },
      "outputs": [
        {
          "data": {
            "image/png": "[encoded data removed]",
            "text/plain": [
              "<Figure size 432x288 with 1 Axes>"
            ]
          },
          "metadata": {
            "needs_background": "light"
          },
          "output_type": "display_data"
        }
      ],
      "source": [
        "top_10_utility_ca.plot(kind='barh')\n",
        "plt.title('Top 10 Utilities in CA')\n",
        "plt.show()"
      ]
    },
    {
      "cell_type": "code",
      "execution_count": null,
      "id": "d206b42a",
      "metadata": {
        "id": "d206b42a",
        "outputId": "1914949c-a440-40af-f97a-0b3b39882470"
      },
      "outputs": [
        {
          "data": {
            "image/png": "[encoded data removed]",
            "text/plain": [
              "<Figure size 432x288 with 1 Axes>"
            ]
          },
          "metadata": {},
          "output_type": "display_data"
        },
        {
          "data": {
            "text/plain": [
              "<Figure size 1440x720 with 0 Axes>"
            ]
          },
          "metadata": {},
          "output_type": "display_data"
        }
      ],
      "source": [
        "data[data['state'] == 'CA'][['state','service_type','ownership']].value_counts().plot(kind='pie', autopct='%.2f')\n",
        "plt.title('Utility Ownership & Service Type CA')\n",
        "plt.figure(figsize=(20,10))\n",
        "plt.show()"
      ]
    },
    {
      "cell_type": "code",
      "execution_count": null,
      "id": "8fcc1dda",
      "metadata": {
        "id": "8fcc1dda"
      },
      "outputs": [],
      "source": [
        "# New York."
      ]
    },
    {
      "cell_type": "code",
      "execution_count": null,
      "id": "81d201d1",
      "metadata": {
        "id": "81d201d1",
        "outputId": "27e02c91-667e-4b04-caf9-1fa28cc3b51f"
      },
      "outputs": [
        {
          "data": {
            "text/plain": [
              "state  service_type  ownership     \n",
              "NY     Bundled       Investor Owned    2427\n",
              "       Delivery      Investor Owned    2426\n",
              "                     State              209\n",
              "       Bundled       State              209\n",
              "                     Municipal           15\n",
              "dtype: int64"
            ]
          },
          "execution_count": 89,
          "metadata": {},
          "output_type": "execute_result"
        }
      ],
      "source": [
        "data[data['state'] == 'NY'][['state','service_type','ownership']].value_counts()"
      ]
    },
    {
      "cell_type": "code",
      "execution_count": null,
      "id": "1cdbdd83",
      "metadata": {
        "id": "1cdbdd83",
        "outputId": "65648b57-ecc0-4217-9367-56ee0f130683"
      },
      "outputs": [
        {
          "data": {
            "image/png": "[encoded data removed]",
            "text/plain": [
              "<Figure size 432x288 with 1 Axes>"
            ]
          },
          "metadata": {},
          "output_type": "display_data"
        }
      ],
      "source": [
        "data[data['state'] == 'NY'][['state','service_type','ownership']].value_counts().plot(kind='pie',autopct='%.2f')\n",
        "plt.title('Utility Ownership & Service Type NY')\n",
        "plt.show()"
      ]
    },
    {
      "cell_type": "code",
      "execution_count": null,
      "id": "d4e15895",
      "metadata": {
        "id": "d4e15895",
        "outputId": "7f6bd4cf-fd31-4588-a425-34de00d629f6"
      },
      "outputs": [
        {
          "data": {
            "image/png": "[encoded data removed]",
            "text/plain": [
              "<Figure size 432x288 with 1 Axes>"
            ]
          },
          "metadata": {
            "needs_background": "light"
          },
          "output_type": "display_data"
        }
      ],
      "source": [
        "data[data['state'] == 'NY'][['state','service_type','ownership']].value_counts().plot(kind='bar')\n",
        "plt.title('New York Utilites')\n",
        "plt.xticks(rotation=65)\n",
        "plt.show()"
      ]
    },
    {
      "cell_type": "code",
      "execution_count": null,
      "id": "f3fb0e70",
      "metadata": {
        "id": "f3fb0e70",
        "outputId": "dcd00314-3d03-4f9d-c833-517384989a47"
      },
      "outputs": [
        {
          "data": {
            "text/plain": [
              "state  service_type  ownership            \n",
              "WA     Bundled       Investor Owned           415\n",
              "                     Political Subdivision    396\n",
              "       Delivery      Investor Owned           250\n",
              "       Bundled       Cooperative              231\n",
              "                     Municipal                107\n",
              "       Energy        Political Subdivision     28\n",
              "dtype: int64"
            ]
          },
          "execution_count": 96,
          "metadata": {},
          "output_type": "execute_result"
        }
      ],
      "source": [
        "data[data['state'] == 'WA'][['state','service_type','ownership']].value_counts()"
      ]
    },
    {
      "cell_type": "code",
      "execution_count": null,
      "id": "797644f6",
      "metadata": {
        "id": "797644f6",
        "outputId": "b79a9aaf-80d7-47a6-8dbd-34466c9c12eb"
      },
      "outputs": [
        {
          "data": {
            "image/png": "[encoded data removed]",
            "text/plain": [
              "<Figure size 432x288 with 1 Axes>"
            ]
          },
          "metadata": {},
          "output_type": "display_data"
        }
      ],
      "source": [
        "data[data['state'] == 'WA'][['state','service_type','ownership']].value_counts().plot(kind='pie',autopct='%.2f')\n",
        "plt.title('Utitliy Ownership & Service Type')\n",
        "plt.show()"
      ]
    },
    {
      "cell_type": "code",
      "execution_count": null,
      "id": "e7717465",
      "metadata": {
        "id": "e7717465"
      },
      "outputs": [],
      "source": [
        "# Washington"
      ]
    },
    {
      "cell_type": "code",
      "execution_count": null,
      "id": "ad6759b7",
      "metadata": {
        "id": "ad6759b7"
      },
      "outputs": [],
      "source": [
        "top_10_utilities_in_wa = data[data['state'] == 'WA'][['state','utility_name','ownership']].value_counts()[:10]"
      ]
    },
    {
      "cell_type": "code",
      "execution_count": null,
      "id": "195c9a1e",
      "metadata": {
        "id": "195c9a1e",
        "outputId": "ed5309fe-27f5-45f3-a68d-5f5683a54707"
      },
      "outputs": [
        {
          "data": {
            "text/plain": [
              "state  utility_name                  ownership            \n",
              "WA     Puget Sound Energy Inc        Investor Owned           500\n",
              "       Avista Corp                   Investor Owned           119\n",
              "       Inland Power & Light Company  Cooperative               91\n",
              "       City of Seattle - (WA)        Municipal                 62\n",
              "       PUD No 1 of Chelan County     Political Subdivision     56\n",
              "       PUD 1 of Snohomish County     Political Subdivision     48\n",
              "       PacifiCorp                    Investor Owned            46\n",
              "       PUD No 1 of Lewis County      Political Subdivision     44\n",
              "       City of Tacoma - (WA)         Municipal                 38\n",
              "       Benton Rural Electric Assn    Cooperative               36\n",
              "dtype: int64"
            ]
          },
          "execution_count": 102,
          "metadata": {},
          "output_type": "execute_result"
        }
      ],
      "source": [
        "top_10_utilities_in_wa"
      ]
    },
    {
      "cell_type": "code",
      "execution_count": null,
      "id": "c21557b6",
      "metadata": {
        "id": "c21557b6",
        "outputId": "9b4f9597-a363-4b96-ff35-b4ff381ee845"
      },
      "outputs": [
        {
          "data": {
            "image/png": "[encoded data removed]",
            "text/plain": [
              "<Figure size 432x288 with 1 Axes>"
            ]
          },
          "metadata": {
            "needs_background": "light"
          },
          "output_type": "display_data"
        }
      ],
      "source": [
        "data[data['state'] == 'WA'][['state','utility_name']].value_counts()[:10].plot(kind='barh')\n",
        "plt.title('Top 10 Utility Companies WA')\n",
        "plt.show()"
      ]
    },
    {
      "cell_type": "code",
      "execution_count": null,
      "id": "a315c443",
      "metadata": {
        "id": "a315c443",
        "outputId": "35e607f7-df13-42ff-a29d-ef3ebc22f735"
      },
      "outputs": [
        {
          "data": {
            "image/png": "[encoded data removed]",
            "text/plain": [
              "<Figure size 432x288 with 1 Axes>"
            ]
          },
          "metadata": {},
          "output_type": "display_data"
        }
      ],
      "source": [
        "top_10_utilities_in_wa.plot(kind='pie', autopct='%.2f')\n",
        "plt.title('Utility Ownership & Service Type')\n",
        "plt.show()"
      ]
    },
    {
      "cell_type": "code",
      "execution_count": null,
      "id": "e617732f",
      "metadata": {
        "id": "e617732f"
      },
      "outputs": [],
      "source": [
        "# Summary listing 5 states with highest average residential rates."
      ]
    },
    {
      "cell_type": "code",
      "execution_count": null,
      "id": "1ac97a73",
      "metadata": {
        "id": "1ac97a73",
        "outputId": "9f6f5efc-a8b6-4928-e173-02e5aadfe0fb"
      },
      "outputs": [
        {
          "data": {
            "text/html": [
              "<div>\n",
              "<style scoped>\n",
              "    .dataframe tbody tr th:only-of-type {\n",
              "        vertical-align: middle;\n",
              "    }\n",
              "\n",
              "    .dataframe tbody tr th {\n",
              "        vertical-align: top;\n",
              "    }\n",
              "\n",
              "    .dataframe thead th {\n",
              "        text-align: right;\n",
              "    }\n",
              "</style>\n",
              "<table border=\"1\" class=\"dataframe\">\n",
              "  <thead>\n",
              "    <tr style=\"text-align: right;\">\n",
              "      <th></th>\n",
              "      <th>res_rate</th>\n",
              "    </tr>\n",
              "    <tr>\n",
              "      <th>state</th>\n",
              "      <th></th>\n",
              "    </tr>\n",
              "  </thead>\n",
              "  <tbody>\n",
              "    <tr>\n",
              "      <th>HI</th>\n",
              "      <td>0.324694</td>\n",
              "    </tr>\n",
              "    <tr>\n",
              "      <th>AK</th>\n",
              "      <td>0.268855</td>\n",
              "    </tr>\n",
              "    <tr>\n",
              "      <th>CA</th>\n",
              "      <td>0.211916</td>\n",
              "    </tr>\n",
              "    <tr>\n",
              "      <th>VT</th>\n",
              "      <td>0.195831</td>\n",
              "    </tr>\n",
              "    <tr>\n",
              "      <th>CT</th>\n",
              "      <td>0.189701</td>\n",
              "    </tr>\n",
              "  </tbody>\n",
              "</table>\n",
              "</div>"
            ],
            "text/plain": [
              "       res_rate\n",
              "state          \n",
              "HI     0.324694\n",
              "AK     0.268855\n",
              "CA     0.211916\n",
              "VT     0.195831\n",
              "CT     0.189701"
            ]
          },
          "execution_count": 106,
          "metadata": {},
          "output_type": "execute_result"
        }
      ],
      "source": [
        "data.groupby('state')[['res_rate']].median().sort_values(ascending=False, by='res_rate')[:5]"
      ]
    },
    {
      "cell_type": "code",
      "execution_count": null,
      "id": "47cde207",
      "metadata": {
        "id": "47cde207"
      },
      "outputs": [],
      "source": [
        "top_5_res_rate_state = data.groupby('state')[['res_rate']].median().sort_values(ascending=False, by='res_rate')[:5]"
      ]
    },
    {
      "cell_type": "code",
      "execution_count": null,
      "id": "7bb6b314",
      "metadata": {
        "id": "7bb6b314",
        "outputId": "13f847c7-4186-4086-e983-60989e27afb2"
      },
      "outputs": [
        {
          "data": {
            "image/png": "[encoded data removed]",
            "text/plain": [
              "<Figure size 432x288 with 1 Axes>"
            ]
          },
          "metadata": {
            "needs_background": "light"
          },
          "output_type": "display_data"
        }
      ],
      "source": [
        "top_5_res_rate_state.plot(kind='bar')\n",
        "plt.title('Highest Avg Residential Rates')\n",
        "plt.xticks(rotation=65)\n",
        "plt.show()"
      ]
    },
    {
      "cell_type": "code",
      "execution_count": null,
      "id": "a09200a7",
      "metadata": {
        "id": "a09200a7"
      },
      "outputs": [],
      "source": [
        "# Summary listing 5 states with highest average commercial rates."
      ]
    },
    {
      "cell_type": "code",
      "execution_count": null,
      "id": "cdbbc869",
      "metadata": {
        "id": "cdbbc869",
        "outputId": "43761e33-76aa-4e6c-93bf-2c939da25fd4"
      },
      "outputs": [
        {
          "data": {
            "text/html": [
              "<div>\n",
              "<style scoped>\n",
              "    .dataframe tbody tr th:only-of-type {\n",
              "        vertical-align: middle;\n",
              "    }\n",
              "\n",
              "    .dataframe tbody tr th {\n",
              "        vertical-align: top;\n",
              "    }\n",
              "\n",
              "    .dataframe thead th {\n",
              "        text-align: right;\n",
              "    }\n",
              "</style>\n",
              "<table border=\"1\" class=\"dataframe\">\n",
              "  <thead>\n",
              "    <tr style=\"text-align: right;\">\n",
              "      <th></th>\n",
              "      <th>comm_rate</th>\n",
              "    </tr>\n",
              "    <tr>\n",
              "      <th>state</th>\n",
              "      <th></th>\n",
              "    </tr>\n",
              "  </thead>\n",
              "  <tbody>\n",
              "    <tr>\n",
              "      <th>HI</th>\n",
              "      <td>0.294364</td>\n",
              "    </tr>\n",
              "    <tr>\n",
              "      <th>AK</th>\n",
              "      <td>0.258754</td>\n",
              "    </tr>\n",
              "    <tr>\n",
              "      <th>VT</th>\n",
              "      <td>0.169710</td>\n",
              "    </tr>\n",
              "    <tr>\n",
              "      <th>CT</th>\n",
              "      <td>0.164832</td>\n",
              "    </tr>\n",
              "    <tr>\n",
              "      <th>CA</th>\n",
              "      <td>0.161559</td>\n",
              "    </tr>\n",
              "  </tbody>\n",
              "</table>\n",
              "</div>"
            ],
            "text/plain": [
              "       comm_rate\n",
              "state           \n",
              "HI      0.294364\n",
              "AK      0.258754\n",
              "VT      0.169710\n",
              "CT      0.164832\n",
              "CA      0.161559"
            ]
          },
          "execution_count": 110,
          "metadata": {},
          "output_type": "execute_result"
        }
      ],
      "source": [
        "data.groupby('state')[['comm_rate']].median().sort_values(ascending=False, by='comm_rate')[:5]"
      ]
    },
    {
      "cell_type": "code",
      "execution_count": null,
      "id": "f67681b8",
      "metadata": {
        "id": "f67681b8"
      },
      "outputs": [],
      "source": [
        "top_5_comm_rate_state = data.groupby('state')[['comm_rate']].median().sort_values(ascending=False, by='comm_rate')[:5]"
      ]
    },
    {
      "cell_type": "code",
      "execution_count": null,
      "id": "596ab74b",
      "metadata": {
        "id": "596ab74b",
        "outputId": "a5095413-264a-459c-a261-e79d2798b4ed"
      },
      "outputs": [
        {
          "data": {
            "image/png": "[encoded data removed]",
            "text/plain": [
              "<Figure size 432x288 with 1 Axes>"
            ]
          },
          "metadata": {
            "needs_background": "light"
          },
          "output_type": "display_data"
        }
      ],
      "source": [
        "top_5_comm_rate_state.plot(kind='bar')\n",
        "plt.title('Highest Avg Commercial Rates')\n",
        "plt.xticks(rotation=65)\n",
        "plt.show()"
      ]
    },
    {
      "cell_type": "code",
      "execution_count": null,
      "id": "94e8d6f6",
      "metadata": {
        "id": "94e8d6f6"
      },
      "outputs": [],
      "source": [
        "# Summary listing 5 states with highest average individual rate."
      ]
    },
    {
      "cell_type": "code",
      "execution_count": null,
      "id": "e119cc87",
      "metadata": {
        "id": "e119cc87",
        "outputId": "f351ef7a-5313-4d20-9721-1471a6aa2559"
      },
      "outputs": [
        {
          "data": {
            "text/html": [
              "<div>\n",
              "<style scoped>\n",
              "    .dataframe tbody tr th:only-of-type {\n",
              "        vertical-align: middle;\n",
              "    }\n",
              "\n",
              "    .dataframe tbody tr th {\n",
              "        vertical-align: top;\n",
              "    }\n",
              "\n",
              "    .dataframe thead th {\n",
              "        text-align: right;\n",
              "    }\n",
              "</style>\n",
              "<table border=\"1\" class=\"dataframe\">\n",
              "  <thead>\n",
              "    <tr style=\"text-align: right;\">\n",
              "      <th></th>\n",
              "      <th>ind_rate</th>\n",
              "    </tr>\n",
              "    <tr>\n",
              "      <th>state</th>\n",
              "      <th></th>\n",
              "    </tr>\n",
              "  </thead>\n",
              "  <tbody>\n",
              "    <tr>\n",
              "      <th>HI</th>\n",
              "      <td>0.258208</td>\n",
              "    </tr>\n",
              "    <tr>\n",
              "      <th>RI</th>\n",
              "      <td>0.140923</td>\n",
              "    </tr>\n",
              "    <tr>\n",
              "      <th>MA</th>\n",
              "      <td>0.123933</td>\n",
              "    </tr>\n",
              "    <tr>\n",
              "      <th>CA</th>\n",
              "      <td>0.117045</td>\n",
              "    </tr>\n",
              "    <tr>\n",
              "      <th>VT</th>\n",
              "      <td>0.110254</td>\n",
              "    </tr>\n",
              "  </tbody>\n",
              "</table>\n",
              "</div>"
            ],
            "text/plain": [
              "       ind_rate\n",
              "state          \n",
              "HI     0.258208\n",
              "RI     0.140923\n",
              "MA     0.123933\n",
              "CA     0.117045\n",
              "VT     0.110254"
            ]
          },
          "execution_count": 114,
          "metadata": {},
          "output_type": "execute_result"
        }
      ],
      "source": [
        "data.groupby('state')[['ind_rate']].median().sort_values(ascending=False, by='ind_rate')[:5]"
      ]
    },
    {
      "cell_type": "code",
      "execution_count": null,
      "id": "0844451f",
      "metadata": {
        "id": "0844451f"
      },
      "outputs": [],
      "source": [
        "top_5_ind_rate_state = data.groupby('state')[['ind_rate']].median().sort_values(ascending=False, by='ind_rate')[:5]"
      ]
    },
    {
      "cell_type": "code",
      "execution_count": null,
      "id": "5528a002",
      "metadata": {
        "id": "5528a002",
        "outputId": "ba2220c7-bbba-41fc-cd14-6060997a7cac"
      },
      "outputs": [
        {
          "data": {
            "image/png": "[encoded data removed]",
            "text/plain": [
              "<Figure size 432x288 with 1 Axes>"
            ]
          },
          "metadata": {
            "needs_background": "light"
          },
          "output_type": "display_data"
        }
      ],
      "source": [
        "top_5_ind_rate_state.plot(kind='bar')\n",
        "plt.title('Highest Avg Individual Rates')\n",
        "plt.xticks(rotation=65)\n",
        "plt.show()"
      ]
    }
  ],
  "metadata": {
    "kernelspec": {
      "display_name": "Python 3",
      "language": "python",
      "name": "python3"
    },
    "language_info": {
      "codemirror_mode": {
        "name": "ipython",
        "version": 3
      },
      "file_extension": ".py",
      "mimetype": "text/x-python",
      "name": "python",
      "nbconvert_exporter": "python",
      "pygments_lexer": "ipython3",
      "version": "3.6.9"
    },
    "colab": {
      "provenance": []
    }
  },
  "nbformat": 4,
  "nbformat_minor": 5
}